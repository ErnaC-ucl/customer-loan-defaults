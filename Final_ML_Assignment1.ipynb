{
 "cells": [
  {
   "cell_type": "markdown",
   "metadata": {
    "colab": {
     "base_uri": "https://localhost:8080/"
    },
    "id": "PZAoQ2oMXYLM",
    "outputId": "70738698-c14c-48ee-9370-df15a1072a3a",
    "scrolled": true
   },
   "source": [
    "# Loading packages"
   ]
  },
  {
   "cell_type": "code",
   "execution_count": 2,
   "metadata": {},
   "outputs": [],
   "source": [
    "import numpy as np\n",
    "import pandas as pd\n",
    "import matplotlib.pyplot as plt\n",
    "import seaborn as sns\n",
    "%matplotlib inline\n",
    "import seaborn as sns\n",
    "sns.set_style('whitegrid')\n",
    "import sklearn\n",
    "from sklearn.metrics import roc_curve\n",
    "from sklearn.metrics import confusion_matrix\n",
    "from sklearn.model_selection import GridSearchCV\n",
    "from sklearn.model_selection import RandomizedSearchCV\n",
    "\n",
    "from sklearn.linear_model import LogisticRegression\n",
    "from sklearn.model_selection import train_test_split\n",
    "import warnings\n",
    "warnings.simplefilter(action=\"ignore\", category=DeprecationWarning)\n",
    "from sklearn.exceptions import ConvergenceWarning\n",
    "warnings.simplefilter(action=\"ignore\", category=ConvergenceWarning)\n",
    "from sklearn import metrics\n",
    "from sklearn import preprocessing \n",
    "from sklearn.tree import DecisionTreeClassifier \n",
    "from sklearn.metrics import accuracy_score \n",
    "from sklearn.metrics import classification_report \n",
    "from sklearn.model_selection import cross_val_score\n",
    "from sklearn.model_selection import KFold\n",
    "from sklearn.compose import ColumnTransformer\n",
    "from sklearn.pipeline import Pipeline\n",
    "from sklearn.preprocessing import OneHotEncoder\n",
    "from sklearn.preprocessing import OrdinalEncoder\n",
    "from sklearn.preprocessing import LabelEncoder\n",
    "from sklearn.model_selection import RandomizedSearchCV\n",
    "from sklearn.preprocessing import StandardScaler\n",
    "from sklearn.impute import SimpleImputer\n",
    "from sklearn.ensemble import RandomForestClassifier\n",
    "from sklearn.feature_selection import SelectKBest, mutual_info_classif\n",
    "import imblearn\n",
    "from imblearn.over_sampling import SMOTE\n",
    "from sklearn.pipeline import Pipeline\n",
    "from sklearn.model_selection import RandomizedSearchCV, StratifiedKFold\n",
    "from sklearn.model_selection import RepeatedStratifiedKFold\n",
    "from imblearn.under_sampling import RandomUnderSampler\n",
    "\n",
    "#from fastai.imports import *\n",
    "from sklearn.ensemble import RandomForestRegressor, RandomForestClassifier\n",
    "from IPython.display import display\n",
    "from sklearn import metrics\n",
    "#from fastai.tabular import *\n",
    "#from fastai.imports import *\n",
    "# Import scipy\n",
    "from scipy.stats import boxcox\n",
    "from scipy import stats\n",
    "\n",
    "# Import Warnings\n",
    "import warnings\n",
    "warnings.filterwarnings('ignore')"
   ]
  },
  {
   "cell_type": "markdown",
   "metadata": {},
   "source": [
    "# Loading data"
   ]
  },
  {
   "cell_type": "code",
   "execution_count": 3,
   "metadata": {
    "id": "t6Va0BIxXYLV"
   },
   "outputs": [
    {
     "data": {
      "text/html": [
       "<div>\n",
       "<style scoped>\n",
       "    .dataframe tbody tr th:only-of-type {\n",
       "        vertical-align: middle;\n",
       "    }\n",
       "\n",
       "    .dataframe tbody tr th {\n",
       "        vertical-align: top;\n",
       "    }\n",
       "\n",
       "    .dataframe thead th {\n",
       "        text-align: right;\n",
       "    }\n",
       "</style>\n",
       "<table border=\"1\" class=\"dataframe\">\n",
       "  <thead>\n",
       "    <tr style=\"text-align: right;\">\n",
       "      <th></th>\n",
       "      <th>loan_amnt</th>\n",
       "      <th>term</th>\n",
       "      <th>installment</th>\n",
       "      <th>emp_length</th>\n",
       "      <th>home_ownership</th>\n",
       "      <th>verification_status</th>\n",
       "      <th>issue_d</th>\n",
       "      <th>purpose</th>\n",
       "      <th>dti</th>\n",
       "      <th>earliest_cr_line</th>\n",
       "      <th>...</th>\n",
       "      <th>pub_rec</th>\n",
       "      <th>revol_util</th>\n",
       "      <th>total_acc</th>\n",
       "      <th>application_type</th>\n",
       "      <th>mort_acc</th>\n",
       "      <th>pub_rec_bankruptcies</th>\n",
       "      <th>log_annual_inc</th>\n",
       "      <th>fico_score</th>\n",
       "      <th>log_revol_bal</th>\n",
       "      <th>charged_off</th>\n",
       "    </tr>\n",
       "  </thead>\n",
       "  <tbody>\n",
       "    <tr>\n",
       "      <th>0</th>\n",
       "      <td>5675</td>\n",
       "      <td>36</td>\n",
       "      <td>189.56</td>\n",
       "      <td>2.0</td>\n",
       "      <td>RENT</td>\n",
       "      <td>Source Verified</td>\n",
       "      <td>14-Dec</td>\n",
       "      <td>car</td>\n",
       "      <td>15.55</td>\n",
       "      <td>1992</td>\n",
       "      <td>...</td>\n",
       "      <td>0</td>\n",
       "      <td>15.0</td>\n",
       "      <td>15</td>\n",
       "      <td>Individual</td>\n",
       "      <td>0.0</td>\n",
       "      <td>0.0</td>\n",
       "      <td>4.698979</td>\n",
       "      <td>697.0</td>\n",
       "      <td>3.464936</td>\n",
       "      <td>0</td>\n",
       "    </tr>\n",
       "    <tr>\n",
       "      <th>1</th>\n",
       "      <td>7000</td>\n",
       "      <td>36</td>\n",
       "      <td>242.63</td>\n",
       "      <td>1.0</td>\n",
       "      <td>RENT</td>\n",
       "      <td>Source Verified</td>\n",
       "      <td>14-Dec</td>\n",
       "      <td>car</td>\n",
       "      <td>6.78</td>\n",
       "      <td>2002</td>\n",
       "      <td>...</td>\n",
       "      <td>0</td>\n",
       "      <td>69.2</td>\n",
       "      <td>5</td>\n",
       "      <td>Individual</td>\n",
       "      <td>0.0</td>\n",
       "      <td>0.0</td>\n",
       "      <td>4.301052</td>\n",
       "      <td>717.0</td>\n",
       "      <td>3.431364</td>\n",
       "      <td>0</td>\n",
       "    </tr>\n",
       "    <tr>\n",
       "      <th>2</th>\n",
       "      <td>3500</td>\n",
       "      <td>36</td>\n",
       "      <td>116.24</td>\n",
       "      <td>10.0</td>\n",
       "      <td>MORTGAGE</td>\n",
       "      <td>Not Verified</td>\n",
       "      <td>14-Dec</td>\n",
       "      <td>car</td>\n",
       "      <td>10.65</td>\n",
       "      <td>1997</td>\n",
       "      <td>...</td>\n",
       "      <td>0</td>\n",
       "      <td>12.6</td>\n",
       "      <td>35</td>\n",
       "      <td>Individual</td>\n",
       "      <td>2.0</td>\n",
       "      <td>0.0</td>\n",
       "      <td>4.681250</td>\n",
       "      <td>742.0</td>\n",
       "      <td>3.765520</td>\n",
       "      <td>0</td>\n",
       "    </tr>\n",
       "    <tr>\n",
       "      <th>3</th>\n",
       "      <td>10000</td>\n",
       "      <td>36</td>\n",
       "      <td>316.47</td>\n",
       "      <td>10.0</td>\n",
       "      <td>MORTGAGE</td>\n",
       "      <td>Not Verified</td>\n",
       "      <td>14-Dec</td>\n",
       "      <td>car</td>\n",
       "      <td>21.74</td>\n",
       "      <td>1996</td>\n",
       "      <td>...</td>\n",
       "      <td>0</td>\n",
       "      <td>23.7</td>\n",
       "      <td>22</td>\n",
       "      <td>Individual</td>\n",
       "      <td>4.0</td>\n",
       "      <td>0.0</td>\n",
       "      <td>4.875067</td>\n",
       "      <td>707.0</td>\n",
       "      <td>3.424555</td>\n",
       "      <td>0</td>\n",
       "    </tr>\n",
       "    <tr>\n",
       "      <th>4</th>\n",
       "      <td>1500</td>\n",
       "      <td>36</td>\n",
       "      <td>46.31</td>\n",
       "      <td>2.0</td>\n",
       "      <td>OWN</td>\n",
       "      <td>Not Verified</td>\n",
       "      <td>14-Dec</td>\n",
       "      <td>car</td>\n",
       "      <td>12.17</td>\n",
       "      <td>1997</td>\n",
       "      <td>...</td>\n",
       "      <td>0</td>\n",
       "      <td>46.5</td>\n",
       "      <td>13</td>\n",
       "      <td>Individual</td>\n",
       "      <td>2.0</td>\n",
       "      <td>0.0</td>\n",
       "      <td>4.812920</td>\n",
       "      <td>712.0</td>\n",
       "      <td>4.448211</td>\n",
       "      <td>0</td>\n",
       "    </tr>\n",
       "  </tbody>\n",
       "</table>\n",
       "<p>5 rows × 21 columns</p>\n",
       "</div>"
      ],
      "text/plain": [
       "   loan_amnt  term  installment  emp_length home_ownership  \\\n",
       "0       5675    36       189.56         2.0           RENT   \n",
       "1       7000    36       242.63         1.0           RENT   \n",
       "2       3500    36       116.24        10.0       MORTGAGE   \n",
       "3      10000    36       316.47        10.0       MORTGAGE   \n",
       "4       1500    36        46.31         2.0            OWN   \n",
       "\n",
       "  verification_status issue_d purpose    dti  earliest_cr_line  ...  pub_rec  \\\n",
       "0     Source Verified  14-Dec     car  15.55              1992  ...        0   \n",
       "1     Source Verified  14-Dec     car   6.78              2002  ...        0   \n",
       "2        Not Verified  14-Dec     car  10.65              1997  ...        0   \n",
       "3        Not Verified  14-Dec     car  21.74              1996  ...        0   \n",
       "4        Not Verified  14-Dec     car  12.17              1997  ...        0   \n",
       "\n",
       "   revol_util  total_acc  application_type mort_acc  pub_rec_bankruptcies  \\\n",
       "0        15.0         15        Individual      0.0                   0.0   \n",
       "1        69.2          5        Individual      0.0                   0.0   \n",
       "2        12.6         35        Individual      2.0                   0.0   \n",
       "3        23.7         22        Individual      4.0                   0.0   \n",
       "4        46.5         13        Individual      2.0                   0.0   \n",
       "\n",
       "   log_annual_inc  fico_score  log_revol_bal  charged_off  \n",
       "0        4.698979       697.0       3.464936            0  \n",
       "1        4.301052       717.0       3.431364            0  \n",
       "2        4.681250       742.0       3.765520            0  \n",
       "3        4.875067       707.0       3.424555            0  \n",
       "4        4.812920       712.0       4.448211            0  \n",
       "\n",
       "[5 rows x 21 columns]"
      ]
     },
     "execution_count": 3,
     "metadata": {},
     "output_type": "execute_result"
    }
   ],
   "source": [
    "# Dataset is now stored in a Pandas Dataframe\n",
    "df = pd.read_csv('dataCOMP0050Coursework1.csv')\n",
    "df.head()"
   ]
  },
  {
   "cell_type": "code",
   "execution_count": 6,
   "metadata": {
    "id": "-VVnCeOwXYLY"
   },
   "outputs": [
    {
     "name": "stdout",
     "output_type": "stream",
     "text": [
      "loan_amnt               [5675, 7000, 3500, 10000, 1500, 8000, 2500, 15...\n",
      "term                                                             [36, 60]\n",
      "installment             [189.56, 242.63, 116.24, 316.47, 46.31, 267.21...\n",
      "emp_length              [2.0, 1.0, 10.0, 0.0, 6.0, 7.0, 9.0, nan, 4.0,...\n",
      "home_ownership                                      [RENT, MORTGAGE, OWN]\n",
      "verification_status             [Source Verified, Not Verified, Verified]\n",
      "issue_d                 [14-Dec, 14-Nov, 14-Oct, 14-Sep, 14-Aug, 14-Ju...\n",
      "purpose                                                             [car]\n",
      "dti                     [15.55, 6.78, 10.65, 21.74, 12.17, 26.9, 19.58...\n",
      "earliest_cr_line        [1992, 2002, 1997, 1996, 2005, 1985, 2000, 199...\n",
      "open_acc                [7, 3, 16, 8, 26, 13, 30, 11, 6, 12, 14, 10, 9...\n",
      "pub_rec                                   [0, 1, 2, 4, 3, 5, 6, 7, 8, 12]\n",
      "revol_util              [15.0, 69.2, 12.6, 23.7, 46.5, 64.4, 40.4, 31....\n",
      "total_acc               [15, 5, 35, 22, 13, 67, 36, 21, 39, 28, 23, 19...\n",
      "application_type                                  [Individual, Joint App]\n",
      "mort_acc                [0.0, 2.0, 4.0, 3.0, 5.0, 1.0, 7.0, 6.0, 9.0, ...\n",
      "pub_rec_bankruptcies             [0.0, 1.0, 2.0, 3.0, 4.0, 5.0, nan, 6.0]\n",
      "log_annual_inc          [4.69897869, 4.30105171, 4.681250285, 4.875067...\n",
      "fico_score              [697.0, 717.0, 742.0, 707.0, 712.0, 672.0, 677...\n",
      "log_revol_bal           [3.4649364289999998, 3.431363764, 3.765519543,...\n",
      "charged_off                                                        [0, 1]\n",
      "dtype: object\n"
     ]
    }
   ],
   "source": [
    "#Printing out unique values in each column\n",
    "col=df.columns\n",
    "print(df.apply(lambda col: col.unique()))"
   ]
  },
  {
   "cell_type": "markdown",
   "metadata": {
    "id": "K2UULLoNXYLZ"
   },
   "source": [
    "Here are what the columns represent:\n",
    "\n",
    "**The variable of interest is charged_off, which takes value 1 if a debtor is not repaying the loan (0 otherwise).\n",
    "* credit.policy: 1 if the customer meets the credit underwriting criteria of LendingClub.com, and 0 otherwise.\n",
    "* purpose: The purpose of the loan (takes values \"credit_card\", \"debt_consolidation\", \"educational\", \"major_purchase\", \"small_business\", and \"all_other\").\n",
    "* int.rate: The interest rate of the loan, as a proportion (a rate of 11% would be stored as 0.11). Borrowers judged by LendingClub.com to be more risky are assigned higher interest rates.\n",
    "* installment: The monthly installments owed by the borrower if the loan is funded.\n",
    "* log.annual.inc: The natural log of the self-reported annual income of the borrower.\n",
    "* dti: The debt-to-income ratio of the borrower (amount of debt divided by annual income).\n",
    "* fico: The FICO credit score of the borrower.\n",
    "* days.with.cr.line: The number of days the borrower has had a credit line.\n",
    "* revol.bal: The borrower's revolving balance (amount unpaid at the end of the credit card billing cycle).\n",
    "* revol.util: The borrower's revolving line utilization rate (the amount of the credit line used relative to total credit available).\n",
    "* inq.last.6mths: The borrower's number of inquiries by creditors in the last 6 months.\n",
    "* delinq.2yrs: The number of times the borrower had been 30+ days past due on a payment in the past 2 years.\n",
    "* pub.rec: The borrower's number of derogatory public records (bankruptcy filings, tax liens, or judgments)."
   ]
  },
  {
   "cell_type": "code",
   "execution_count": 7,
   "metadata": {
    "id": "HNfOrFKSXYLa",
    "outputId": "0af62eff-e935-40f6-bf76-592d78f00044"
   },
   "outputs": [
    {
     "data": {
      "text/html": [
       "<div>\n",
       "<style scoped>\n",
       "    .dataframe tbody tr th:only-of-type {\n",
       "        vertical-align: middle;\n",
       "    }\n",
       "\n",
       "    .dataframe tbody tr th {\n",
       "        vertical-align: top;\n",
       "    }\n",
       "\n",
       "    .dataframe thead th {\n",
       "        text-align: right;\n",
       "    }\n",
       "</style>\n",
       "<table border=\"1\" class=\"dataframe\">\n",
       "  <thead>\n",
       "    <tr style=\"text-align: right;\">\n",
       "      <th></th>\n",
       "      <th>loan_amnt</th>\n",
       "      <th>term</th>\n",
       "      <th>installment</th>\n",
       "      <th>emp_length</th>\n",
       "      <th>dti</th>\n",
       "      <th>earliest_cr_line</th>\n",
       "      <th>open_acc</th>\n",
       "      <th>pub_rec</th>\n",
       "      <th>revol_util</th>\n",
       "      <th>total_acc</th>\n",
       "      <th>mort_acc</th>\n",
       "      <th>pub_rec_bankruptcies</th>\n",
       "      <th>log_annual_inc</th>\n",
       "      <th>fico_score</th>\n",
       "      <th>log_revol_bal</th>\n",
       "      <th>charged_off</th>\n",
       "    </tr>\n",
       "  </thead>\n",
       "  <tbody>\n",
       "    <tr>\n",
       "      <th>count</th>\n",
       "      <td>8929.000000</td>\n",
       "      <td>8929.000000</td>\n",
       "      <td>8929.000000</td>\n",
       "      <td>8504.000000</td>\n",
       "      <td>8929.000000</td>\n",
       "      <td>8929.000000</td>\n",
       "      <td>8929.000000</td>\n",
       "      <td>8929.000000</td>\n",
       "      <td>8915.000000</td>\n",
       "      <td>8929.000000</td>\n",
       "      <td>7173.000000</td>\n",
       "      <td>8912.000000</td>\n",
       "      <td>8929.000000</td>\n",
       "      <td>8929.000000</td>\n",
       "      <td>8929.000000</td>\n",
       "      <td>8929.000000</td>\n",
       "    </tr>\n",
       "    <tr>\n",
       "      <th>mean</th>\n",
       "      <td>8588.629746</td>\n",
       "      <td>40.373166</td>\n",
       "      <td>262.961752</td>\n",
       "      <td>5.259878</td>\n",
       "      <td>14.233822</td>\n",
       "      <td>1999.016463</td>\n",
       "      <td>9.806137</td>\n",
       "      <td>0.195319</td>\n",
       "      <td>40.554445</td>\n",
       "      <td>22.151305</td>\n",
       "      <td>1.539244</td>\n",
       "      <td>0.123205</td>\n",
       "      <td>4.755638</td>\n",
       "      <td>710.746836</td>\n",
       "      <td>3.659418</td>\n",
       "      <td>0.147945</td>\n",
       "    </tr>\n",
       "    <tr>\n",
       "      <th>std</th>\n",
       "      <td>6059.496367</td>\n",
       "      <td>9.265043</td>\n",
       "      <td>181.985130</td>\n",
       "      <td>3.656832</td>\n",
       "      <td>8.536308</td>\n",
       "      <td>7.486955</td>\n",
       "      <td>4.972138</td>\n",
       "      <td>0.568884</td>\n",
       "      <td>26.612105</td>\n",
       "      <td>11.663117</td>\n",
       "      <td>2.016116</td>\n",
       "      <td>0.384692</td>\n",
       "      <td>0.247165</td>\n",
       "      <td>39.842970</td>\n",
       "      <td>0.779071</td>\n",
       "      <td>0.355065</td>\n",
       "    </tr>\n",
       "    <tr>\n",
       "      <th>min</th>\n",
       "      <td>1000.000000</td>\n",
       "      <td>36.000000</td>\n",
       "      <td>21.740000</td>\n",
       "      <td>0.000000</td>\n",
       "      <td>0.000000</td>\n",
       "      <td>1958.000000</td>\n",
       "      <td>0.000000</td>\n",
       "      <td>0.000000</td>\n",
       "      <td>0.000000</td>\n",
       "      <td>2.000000</td>\n",
       "      <td>0.000000</td>\n",
       "      <td>0.000000</td>\n",
       "      <td>3.477266</td>\n",
       "      <td>662.000000</td>\n",
       "      <td>0.000000</td>\n",
       "      <td>0.000000</td>\n",
       "    </tr>\n",
       "    <tr>\n",
       "      <th>25%</th>\n",
       "      <td>4600.000000</td>\n",
       "      <td>36.000000</td>\n",
       "      <td>140.790000</td>\n",
       "      <td>2.000000</td>\n",
       "      <td>7.700000</td>\n",
       "      <td>1995.000000</td>\n",
       "      <td>6.000000</td>\n",
       "      <td>0.000000</td>\n",
       "      <td>18.200000</td>\n",
       "      <td>13.000000</td>\n",
       "      <td>0.000000</td>\n",
       "      <td>0.000000</td>\n",
       "      <td>4.602071</td>\n",
       "      <td>677.000000</td>\n",
       "      <td>3.429106</td>\n",
       "      <td>0.000000</td>\n",
       "    </tr>\n",
       "    <tr>\n",
       "      <th>50%</th>\n",
       "      <td>7000.000000</td>\n",
       "      <td>36.000000</td>\n",
       "      <td>213.550000</td>\n",
       "      <td>5.000000</td>\n",
       "      <td>13.220000</td>\n",
       "      <td>2000.000000</td>\n",
       "      <td>9.000000</td>\n",
       "      <td>0.000000</td>\n",
       "      <td>37.900000</td>\n",
       "      <td>21.000000</td>\n",
       "      <td>1.000000</td>\n",
       "      <td>0.000000</td>\n",
       "      <td>4.763435</td>\n",
       "      <td>702.000000</td>\n",
       "      <td>3.785259</td>\n",
       "      <td>0.000000</td>\n",
       "    </tr>\n",
       "    <tr>\n",
       "      <th>75%</th>\n",
       "      <td>10800.000000</td>\n",
       "      <td>36.000000</td>\n",
       "      <td>330.140000</td>\n",
       "      <td>10.000000</td>\n",
       "      <td>19.990000</td>\n",
       "      <td>2004.000000</td>\n",
       "      <td>12.000000</td>\n",
       "      <td>0.000000</td>\n",
       "      <td>61.100000</td>\n",
       "      <td>29.000000</td>\n",
       "      <td>3.000000</td>\n",
       "      <td>0.000000</td>\n",
       "      <td>4.909829</td>\n",
       "      <td>737.000000</td>\n",
       "      <td>4.093597</td>\n",
       "      <td>0.000000</td>\n",
       "    </tr>\n",
       "    <tr>\n",
       "      <th>max</th>\n",
       "      <td>40000.000000</td>\n",
       "      <td>60.000000</td>\n",
       "      <td>1329.440000</td>\n",
       "      <td>10.000000</td>\n",
       "      <td>94.320000</td>\n",
       "      <td>2014.000000</td>\n",
       "      <td>84.000000</td>\n",
       "      <td>12.000000</td>\n",
       "      <td>145.800000</td>\n",
       "      <td>124.000000</td>\n",
       "      <td>19.000000</td>\n",
       "      <td>6.000000</td>\n",
       "      <td>6.964966</td>\n",
       "      <td>847.500000</td>\n",
       "      <td>5.633197</td>\n",
       "      <td>1.000000</td>\n",
       "    </tr>\n",
       "  </tbody>\n",
       "</table>\n",
       "</div>"
      ],
      "text/plain": [
       "          loan_amnt         term  installment   emp_length          dti  \\\n",
       "count   8929.000000  8929.000000  8929.000000  8504.000000  8929.000000   \n",
       "mean    8588.629746    40.373166   262.961752     5.259878    14.233822   \n",
       "std     6059.496367     9.265043   181.985130     3.656832     8.536308   \n",
       "min     1000.000000    36.000000    21.740000     0.000000     0.000000   \n",
       "25%     4600.000000    36.000000   140.790000     2.000000     7.700000   \n",
       "50%     7000.000000    36.000000   213.550000     5.000000    13.220000   \n",
       "75%    10800.000000    36.000000   330.140000    10.000000    19.990000   \n",
       "max    40000.000000    60.000000  1329.440000    10.000000    94.320000   \n",
       "\n",
       "       earliest_cr_line     open_acc      pub_rec   revol_util    total_acc  \\\n",
       "count       8929.000000  8929.000000  8929.000000  8915.000000  8929.000000   \n",
       "mean        1999.016463     9.806137     0.195319    40.554445    22.151305   \n",
       "std            7.486955     4.972138     0.568884    26.612105    11.663117   \n",
       "min         1958.000000     0.000000     0.000000     0.000000     2.000000   \n",
       "25%         1995.000000     6.000000     0.000000    18.200000    13.000000   \n",
       "50%         2000.000000     9.000000     0.000000    37.900000    21.000000   \n",
       "75%         2004.000000    12.000000     0.000000    61.100000    29.000000   \n",
       "max         2014.000000    84.000000    12.000000   145.800000   124.000000   \n",
       "\n",
       "          mort_acc  pub_rec_bankruptcies  log_annual_inc   fico_score  \\\n",
       "count  7173.000000           8912.000000     8929.000000  8929.000000   \n",
       "mean      1.539244              0.123205        4.755638   710.746836   \n",
       "std       2.016116              0.384692        0.247165    39.842970   \n",
       "min       0.000000              0.000000        3.477266   662.000000   \n",
       "25%       0.000000              0.000000        4.602071   677.000000   \n",
       "50%       1.000000              0.000000        4.763435   702.000000   \n",
       "75%       3.000000              0.000000        4.909829   737.000000   \n",
       "max      19.000000              6.000000        6.964966   847.500000   \n",
       "\n",
       "       log_revol_bal  charged_off  \n",
       "count    8929.000000  8929.000000  \n",
       "mean        3.659418     0.147945  \n",
       "std         0.779071     0.355065  \n",
       "min         0.000000     0.000000  \n",
       "25%         3.429106     0.000000  \n",
       "50%         3.785259     0.000000  \n",
       "75%         4.093597     0.000000  \n",
       "max         5.633197     1.000000  "
      ]
     },
     "execution_count": 7,
     "metadata": {},
     "output_type": "execute_result"
    }
   ],
   "source": [
    "df.describe()"
   ]
  },
  {
   "cell_type": "markdown",
   "metadata": {
    "id": "oPrNJrf9XYLb"
   },
   "source": [
    "# Data cleaning and pre-processing "
   ]
  },
  {
   "cell_type": "markdown",
   "metadata": {
    "id": "o0iVrOdAXYLb"
   },
   "source": [
    "* Created two separate pipelines to handle different types of data that is num_transformer which handles the missing numbers using simple imputer while the standard scaler will transform the data such that its distribution will have a mean value 0 and standard deviation of 1.\n",
    "* In cat_transformer I have used simple imputer and one hot encoder to encode the categories"
   ]
  },
  {
   "cell_type": "code",
   "execution_count": 8,
   "metadata": {
    "id": "LoancDU8XYLa"
   },
   "outputs": [],
   "source": [
    "#Split the dataset into train and test using a 70:30 ratio\n",
    "train=df.iloc[:round(len(df)*0.7),:]\n",
    "test=df.iloc[round(len(df)*0.7):,:]\n",
    "X_train=train.iloc[:,:-1]\n",
    "y_train=train.iloc[:,-1]\n",
    "X_test=test.iloc[:,:-1]\n",
    "y_test=test.iloc[:,-1]"
   ]
  },
  {
   "cell_type": "code",
   "execution_count": 9,
   "metadata": {
    "id": "FyH154LgXYLc"
   },
   "outputs": [],
   "source": [
    "num_features = train.iloc[:,:-1].select_dtypes(include=['int64', 'float64']).columns\n",
    "cat_features= train.iloc[:,:-1].select_dtypes(include=['object', 'bool']).columns"
   ]
  },
  {
   "cell_type": "code",
   "execution_count": 10,
   "metadata": {
    "id": "Peidm2AfXYLc"
   },
   "outputs": [],
   "source": [
    "num_si_step=(\"si\",SimpleImputer(strategy=\"mean\"))\n",
    "num_scale_step=(\"scale\",StandardScaler())\n",
    "\n",
    "num_steps=[num_si_step,num_scale_step]\n",
    "num_pipe=Pipeline(num_steps)\n",
    "\n",
    "cat_si_step = ('si', SimpleImputer(strategy='most_frequent'))\n",
    "cat_ohe_step = ('ohe', OneHotEncoder(sparse=False))\n",
    "cat_steps = [cat_si_step, cat_ohe_step]\n",
    "cat_pipe=Pipeline(cat_steps)\n"
   ]
  },
  {
   "cell_type": "code",
   "execution_count": 11,
   "metadata": {
    "id": "LFpifaR2XYLc"
   },
   "outputs": [],
   "source": [
    "cat_ordinal_step = ('ordinal', OrdinalEncoder())\n",
    "cat_steps2 = [cat_si_step, cat_ordinal_step]\n",
    "cat_pipe2=Pipeline(cat_steps2)"
   ]
  },
  {
   "cell_type": "code",
   "execution_count": 12,
   "metadata": {
    "id": "SOo8riq1XYLd"
   },
   "outputs": [],
   "source": [
    "transformers2 = [('num', num_pipe, num_features),('cat', cat_pipe2, cat_features)]\n",
    "preprocessor2 = ColumnTransformer(transformers=transformers2,remainder='passthrough')"
   ]
  },
  {
   "cell_type": "code",
   "execution_count": 13,
   "metadata": {
    "id": "jRGfwmIzXYLd"
   },
   "outputs": [],
   "source": [
    "num_transformer_tree = Pipeline([('imputer',SimpleImputer(strategy='mean'))])\n",
    "\n",
    "transformers_tree = [('num', num_transformer_tree, num_features),('cat', cat_pipe2, cat_features)]\n",
    "preprocessor_tree2 = ColumnTransformer(transformers=transformers_tree,remainder='passthrough')"
   ]
  },
  {
   "cell_type": "code",
   "execution_count": 14,
   "metadata": {
    "id": "S-cmMf8kXYLd"
   },
   "outputs": [],
   "source": [
    "transformers = [('num', num_pipe, num_features),('cat', cat_pipe, cat_features)]\n",
    "preprocessor = ColumnTransformer(transformers=transformers,remainder='passthrough')\n"
   ]
  },
  {
   "cell_type": "code",
   "execution_count": 15,
   "metadata": {
    "id": "IyMiT8K4XYLd"
   },
   "outputs": [],
   "source": [
    "num_transformer_tree = Pipeline([('imputer',SimpleImputer(strategy='mean'))])\n",
    "preprocessor_tree = ColumnTransformer(\n",
    "    transformers=[\n",
    "        ('num', num_transformer_tree, num_features),\n",
    "        ('cat', cat_pipe, cat_features)],remainder='passthrough')"
   ]
  },
  {
   "cell_type": "code",
   "execution_count": 18,
   "metadata": {
    "id": "GG1Rc-zjXYLe"
   },
   "outputs": [],
   "source": [
    "#Apply pipeline of pre-processing steps\n",
    "X_test_base= pd.DataFrame(preprocessor2.fit_transform(X_test))\n",
    "X_train_base= pd.DataFrame(preprocessor2.fit_transform(X_train))"
   ]
  },
  {
   "cell_type": "code",
   "execution_count": 19,
   "metadata": {
    "id": "zDQOpBjPXYLf"
   },
   "outputs": [],
   "source": [
    "df1_temp=X_train_base.iloc[:,:len(num_features)]\n",
    "df1_temp.columns=num_features\n",
    "df2_temp=X_train_base.iloc[:,len(num_features):]\n",
    "\n",
    "df2_temp.columns=cat_features\n"
   ]
  },
  {
   "cell_type": "code",
   "execution_count": 21,
   "metadata": {
    "colab": {
     "base_uri": "https://localhost:8080/",
     "height": 0
    },
    "id": "Rafzj7-_XYLf",
    "outputId": "71d66354-7a61-42d3-9fa0-dc9361d5f45f"
   },
   "outputs": [
    {
     "data": {
      "text/html": [
       "<div>\n",
       "<style scoped>\n",
       "    .dataframe tbody tr th:only-of-type {\n",
       "        vertical-align: middle;\n",
       "    }\n",
       "\n",
       "    .dataframe tbody tr th {\n",
       "        vertical-align: top;\n",
       "    }\n",
       "\n",
       "    .dataframe thead th {\n",
       "        text-align: right;\n",
       "    }\n",
       "</style>\n",
       "<table border=\"1\" class=\"dataframe\">\n",
       "  <thead>\n",
       "    <tr style=\"text-align: right;\">\n",
       "      <th></th>\n",
       "      <th>loan_amnt</th>\n",
       "      <th>term</th>\n",
       "      <th>installment</th>\n",
       "      <th>emp_length</th>\n",
       "      <th>dti</th>\n",
       "      <th>earliest_cr_line</th>\n",
       "      <th>open_acc</th>\n",
       "      <th>pub_rec</th>\n",
       "      <th>revol_util</th>\n",
       "      <th>total_acc</th>\n",
       "      <th>mort_acc</th>\n",
       "      <th>pub_rec_bankruptcies</th>\n",
       "      <th>log_annual_inc</th>\n",
       "      <th>fico_score</th>\n",
       "      <th>log_revol_bal</th>\n",
       "      <th>home_ownership</th>\n",
       "      <th>verification_status</th>\n",
       "      <th>issue_d</th>\n",
       "      <th>purpose</th>\n",
       "      <th>application_type</th>\n",
       "    </tr>\n",
       "  </thead>\n",
       "  <tbody>\n",
       "    <tr>\n",
       "      <th>0</th>\n",
       "      <td>-0.483950</td>\n",
       "      <td>-0.4847</td>\n",
       "      <td>-0.401658</td>\n",
       "      <td>-0.899247</td>\n",
       "      <td>0.177203</td>\n",
       "      <td>-0.904353</td>\n",
       "      <td>-0.548458</td>\n",
       "      <td>-0.34392</td>\n",
       "      <td>-0.994462</td>\n",
       "      <td>-0.610414</td>\n",
       "      <td>-0.864777</td>\n",
       "      <td>-0.316297</td>\n",
       "      <td>-0.213608</td>\n",
       "      <td>-0.337237</td>\n",
       "      <td>-0.245093</td>\n",
       "      <td>2.0</td>\n",
       "      <td>1.0</td>\n",
       "      <td>39.0</td>\n",
       "      <td>0.0</td>\n",
       "      <td>0.0</td>\n",
       "    </tr>\n",
       "    <tr>\n",
       "      <th>1</th>\n",
       "      <td>-0.263471</td>\n",
       "      <td>-0.4847</td>\n",
       "      <td>-0.109667</td>\n",
       "      <td>-1.179117</td>\n",
       "      <td>-0.866371</td>\n",
       "      <td>0.440834</td>\n",
       "      <td>-1.359162</td>\n",
       "      <td>-0.34392</td>\n",
       "      <td>1.040206</td>\n",
       "      <td>-1.463711</td>\n",
       "      <td>-0.864777</td>\n",
       "      <td>-0.316297</td>\n",
       "      <td>-1.836050</td>\n",
       "      <td>0.167488</td>\n",
       "      <td>-0.287846</td>\n",
       "      <td>2.0</td>\n",
       "      <td>1.0</td>\n",
       "      <td>39.0</td>\n",
       "      <td>0.0</td>\n",
       "      <td>0.0</td>\n",
       "    </tr>\n",
       "    <tr>\n",
       "      <th>2</th>\n",
       "      <td>-0.845867</td>\n",
       "      <td>-0.4847</td>\n",
       "      <td>-0.805064</td>\n",
       "      <td>1.339714</td>\n",
       "      <td>-0.405866</td>\n",
       "      <td>-0.231760</td>\n",
       "      <td>1.275627</td>\n",
       "      <td>-0.34392</td>\n",
       "      <td>-1.084558</td>\n",
       "      <td>1.096179</td>\n",
       "      <td>0.270628</td>\n",
       "      <td>-0.316297</td>\n",
       "      <td>-0.285891</td>\n",
       "      <td>0.798394</td>\n",
       "      <td>0.137677</td>\n",
       "      <td>0.0</td>\n",
       "      <td>0.0</td>\n",
       "      <td>39.0</td>\n",
       "      <td>0.0</td>\n",
       "      <td>0.0</td>\n",
       "    </tr>\n",
       "    <tr>\n",
       "      <th>3</th>\n",
       "      <td>0.235725</td>\n",
       "      <td>-0.4847</td>\n",
       "      <td>0.296601</td>\n",
       "      <td>1.339714</td>\n",
       "      <td>0.913773</td>\n",
       "      <td>-0.366278</td>\n",
       "      <td>-0.548458</td>\n",
       "      <td>-0.34392</td>\n",
       "      <td>-0.667864</td>\n",
       "      <td>-0.013107</td>\n",
       "      <td>1.406033</td>\n",
       "      <td>-0.316297</td>\n",
       "      <td>0.504345</td>\n",
       "      <td>-0.084875</td>\n",
       "      <td>-0.296516</td>\n",
       "      <td>0.0</td>\n",
       "      <td>0.0</td>\n",
       "      <td>39.0</td>\n",
       "      <td>0.0</td>\n",
       "      <td>0.0</td>\n",
       "    </tr>\n",
       "    <tr>\n",
       "      <th>4</th>\n",
       "      <td>-1.178665</td>\n",
       "      <td>-0.4847</td>\n",
       "      <td>-1.189819</td>\n",
       "      <td>-0.899247</td>\n",
       "      <td>-0.224995</td>\n",
       "      <td>-0.231760</td>\n",
       "      <td>-0.345782</td>\n",
       "      <td>-0.34392</td>\n",
       "      <td>0.188048</td>\n",
       "      <td>-0.781074</td>\n",
       "      <td>0.270628</td>\n",
       "      <td>-0.316297</td>\n",
       "      <td>0.250957</td>\n",
       "      <td>0.041307</td>\n",
       "      <td>1.007034</td>\n",
       "      <td>1.0</td>\n",
       "      <td>0.0</td>\n",
       "      <td>39.0</td>\n",
       "      <td>0.0</td>\n",
       "      <td>0.0</td>\n",
       "    </tr>\n",
       "  </tbody>\n",
       "</table>\n",
       "</div>"
      ],
      "text/plain": [
       "   loan_amnt    term  installment  emp_length       dti  earliest_cr_line  \\\n",
       "0  -0.483950 -0.4847    -0.401658   -0.899247  0.177203         -0.904353   \n",
       "1  -0.263471 -0.4847    -0.109667   -1.179117 -0.866371          0.440834   \n",
       "2  -0.845867 -0.4847    -0.805064    1.339714 -0.405866         -0.231760   \n",
       "3   0.235725 -0.4847     0.296601    1.339714  0.913773         -0.366278   \n",
       "4  -1.178665 -0.4847    -1.189819   -0.899247 -0.224995         -0.231760   \n",
       "\n",
       "   open_acc  pub_rec  revol_util  total_acc  mort_acc  pub_rec_bankruptcies  \\\n",
       "0 -0.548458 -0.34392   -0.994462  -0.610414 -0.864777             -0.316297   \n",
       "1 -1.359162 -0.34392    1.040206  -1.463711 -0.864777             -0.316297   \n",
       "2  1.275627 -0.34392   -1.084558   1.096179  0.270628             -0.316297   \n",
       "3 -0.548458 -0.34392   -0.667864  -0.013107  1.406033             -0.316297   \n",
       "4 -0.345782 -0.34392    0.188048  -0.781074  0.270628             -0.316297   \n",
       "\n",
       "   log_annual_inc  fico_score  log_revol_bal  home_ownership  \\\n",
       "0       -0.213608   -0.337237      -0.245093             2.0   \n",
       "1       -1.836050    0.167488      -0.287846             2.0   \n",
       "2       -0.285891    0.798394       0.137677             0.0   \n",
       "3        0.504345   -0.084875      -0.296516             0.0   \n",
       "4        0.250957    0.041307       1.007034             1.0   \n",
       "\n",
       "   verification_status  issue_d  purpose  application_type  \n",
       "0                  1.0     39.0      0.0               0.0  \n",
       "1                  1.0     39.0      0.0               0.0  \n",
       "2                  0.0     39.0      0.0               0.0  \n",
       "3                  0.0     39.0      0.0               0.0  \n",
       "4                  0.0     39.0      0.0               0.0  "
      ]
     },
     "execution_count": 21,
     "metadata": {},
     "output_type": "execute_result"
    }
   ],
   "source": [
    "X_train_base=pd.concat([df1_temp,df2_temp],axis=1)\n",
    "X_train_base.head()"
   ]
  },
  {
   "cell_type": "code",
   "execution_count": 22,
   "metadata": {
    "id": "gXT-zd3CXYLg"
   },
   "outputs": [],
   "source": [
    "df1_test=X_test_base.iloc[:,:len(num_features)]\n",
    "df2_test=X_test_base.iloc[:,len(num_features):]\n",
    "df1_test.columns=num_features\n",
    "df2_test.columns=cat_features"
   ]
  },
  {
   "cell_type": "code",
   "execution_count": 23,
   "metadata": {
    "colab": {
     "base_uri": "https://localhost:8080/",
     "height": 0
    },
    "id": "F3004ZDHXYLg",
    "outputId": "321f16c8-b4bb-4efe-d928-69c32c13fbd4"
   },
   "outputs": [
    {
     "data": {
      "text/html": [
       "<div>\n",
       "<style scoped>\n",
       "    .dataframe tbody tr th:only-of-type {\n",
       "        vertical-align: middle;\n",
       "    }\n",
       "\n",
       "    .dataframe tbody tr th {\n",
       "        vertical-align: top;\n",
       "    }\n",
       "\n",
       "    .dataframe thead th {\n",
       "        text-align: right;\n",
       "    }\n",
       "</style>\n",
       "<table border=\"1\" class=\"dataframe\">\n",
       "  <thead>\n",
       "    <tr style=\"text-align: right;\">\n",
       "      <th></th>\n",
       "      <th>loan_amnt</th>\n",
       "      <th>term</th>\n",
       "      <th>installment</th>\n",
       "      <th>emp_length</th>\n",
       "      <th>dti</th>\n",
       "      <th>earliest_cr_line</th>\n",
       "      <th>open_acc</th>\n",
       "      <th>pub_rec</th>\n",
       "      <th>revol_util</th>\n",
       "      <th>total_acc</th>\n",
       "      <th>mort_acc</th>\n",
       "      <th>pub_rec_bankruptcies</th>\n",
       "      <th>log_annual_inc</th>\n",
       "      <th>fico_score</th>\n",
       "      <th>log_revol_bal</th>\n",
       "      <th>home_ownership</th>\n",
       "      <th>verification_status</th>\n",
       "      <th>issue_d</th>\n",
       "      <th>purpose</th>\n",
       "      <th>application_type</th>\n",
       "    </tr>\n",
       "  </thead>\n",
       "  <tbody>\n",
       "    <tr>\n",
       "      <th>0</th>\n",
       "      <td>-1.117901</td>\n",
       "      <td>-0.442096</td>\n",
       "      <td>-1.112684</td>\n",
       "      <td>-0.385166</td>\n",
       "      <td>-0.212789</td>\n",
       "      <td>0.171691</td>\n",
       "      <td>-0.601724</td>\n",
       "      <td>-0.348524</td>\n",
       "      <td>2.195041</td>\n",
       "      <td>0.681250</td>\n",
       "      <td>0.225550</td>\n",
       "      <td>-0.331058</td>\n",
       "      <td>0.933084</td>\n",
       "      <td>-1.231071</td>\n",
       "      <td>0.173055</td>\n",
       "      <td>0.0</td>\n",
       "      <td>0.0</td>\n",
       "      <td>2.0</td>\n",
       "      <td>0.0</td>\n",
       "      <td>0.0</td>\n",
       "    </tr>\n",
       "    <tr>\n",
       "      <th>1</th>\n",
       "      <td>-0.615721</td>\n",
       "      <td>-0.442096</td>\n",
       "      <td>-0.638467</td>\n",
       "      <td>-1.510153</td>\n",
       "      <td>-0.478006</td>\n",
       "      <td>-0.357150</td>\n",
       "      <td>0.784023</td>\n",
       "      <td>-0.348524</td>\n",
       "      <td>-1.456203</td>\n",
       "      <td>1.028204</td>\n",
       "      <td>2.321639</td>\n",
       "      <td>-0.331058</td>\n",
       "      <td>0.702243</td>\n",
       "      <td>2.612784</td>\n",
       "      <td>-4.794643</td>\n",
       "      <td>0.0</td>\n",
       "      <td>0.0</td>\n",
       "      <td>2.0</td>\n",
       "      <td>0.0</td>\n",
       "      <td>0.0</td>\n",
       "    </tr>\n",
       "    <tr>\n",
       "      <th>2</th>\n",
       "      <td>-0.421329</td>\n",
       "      <td>-0.442096</td>\n",
       "      <td>-0.367438</td>\n",
       "      <td>-0.103920</td>\n",
       "      <td>-0.119850</td>\n",
       "      <td>-1.547041</td>\n",
       "      <td>-0.205797</td>\n",
       "      <td>-0.348524</td>\n",
       "      <td>2.225405</td>\n",
       "      <td>-0.619830</td>\n",
       "      <td>-0.822494</td>\n",
       "      <td>-0.331058</td>\n",
       "      <td>0.716018</td>\n",
       "      <td>-0.611095</td>\n",
       "      <td>0.730237</td>\n",
       "      <td>2.0</td>\n",
       "      <td>0.0</td>\n",
       "      <td>2.0</td>\n",
       "      <td>0.0</td>\n",
       "      <td>0.0</td>\n",
       "    </tr>\n",
       "    <tr>\n",
       "      <th>3</th>\n",
       "      <td>0.664029</td>\n",
       "      <td>-0.442096</td>\n",
       "      <td>1.061899</td>\n",
       "      <td>-1.228906</td>\n",
       "      <td>1.715132</td>\n",
       "      <td>0.436111</td>\n",
       "      <td>1.971806</td>\n",
       "      <td>-0.348524</td>\n",
       "      <td>1.508061</td>\n",
       "      <td>0.767988</td>\n",
       "      <td>-0.298472</td>\n",
       "      <td>-0.331058</td>\n",
       "      <td>0.389031</td>\n",
       "      <td>-1.107076</td>\n",
       "      <td>0.321099</td>\n",
       "      <td>0.0</td>\n",
       "      <td>2.0</td>\n",
       "      <td>2.0</td>\n",
       "      <td>0.0</td>\n",
       "      <td>0.0</td>\n",
       "    </tr>\n",
       "    <tr>\n",
       "      <th>4</th>\n",
       "      <td>0.550633</td>\n",
       "      <td>-0.442096</td>\n",
       "      <td>0.572941</td>\n",
       "      <td>1.302313</td>\n",
       "      <td>-0.348798</td>\n",
       "      <td>-0.357150</td>\n",
       "      <td>0.190131</td>\n",
       "      <td>-0.348524</td>\n",
       "      <td>-0.837541</td>\n",
       "      <td>0.594511</td>\n",
       "      <td>2.845661</td>\n",
       "      <td>-0.331058</td>\n",
       "      <td>0.788939</td>\n",
       "      <td>0.256873</td>\n",
       "      <td>-0.085194</td>\n",
       "      <td>0.0</td>\n",
       "      <td>0.0</td>\n",
       "      <td>2.0</td>\n",
       "      <td>0.0</td>\n",
       "      <td>0.0</td>\n",
       "    </tr>\n",
       "  </tbody>\n",
       "</table>\n",
       "</div>"
      ],
      "text/plain": [
       "   loan_amnt      term  installment  emp_length       dti  earliest_cr_line  \\\n",
       "0  -1.117901 -0.442096    -1.112684   -0.385166 -0.212789          0.171691   \n",
       "1  -0.615721 -0.442096    -0.638467   -1.510153 -0.478006         -0.357150   \n",
       "2  -0.421329 -0.442096    -0.367438   -0.103920 -0.119850         -1.547041   \n",
       "3   0.664029 -0.442096     1.061899   -1.228906  1.715132          0.436111   \n",
       "4   0.550633 -0.442096     0.572941    1.302313 -0.348798         -0.357150   \n",
       "\n",
       "   open_acc   pub_rec  revol_util  total_acc  mort_acc  pub_rec_bankruptcies  \\\n",
       "0 -0.601724 -0.348524    2.195041   0.681250  0.225550             -0.331058   \n",
       "1  0.784023 -0.348524   -1.456203   1.028204  2.321639             -0.331058   \n",
       "2 -0.205797 -0.348524    2.225405  -0.619830 -0.822494             -0.331058   \n",
       "3  1.971806 -0.348524    1.508061   0.767988 -0.298472             -0.331058   \n",
       "4  0.190131 -0.348524   -0.837541   0.594511  2.845661             -0.331058   \n",
       "\n",
       "   log_annual_inc  fico_score  log_revol_bal  home_ownership  \\\n",
       "0        0.933084   -1.231071       0.173055             0.0   \n",
       "1        0.702243    2.612784      -4.794643             0.0   \n",
       "2        0.716018   -0.611095       0.730237             2.0   \n",
       "3        0.389031   -1.107076       0.321099             0.0   \n",
       "4        0.788939    0.256873      -0.085194             0.0   \n",
       "\n",
       "   verification_status  issue_d  purpose  application_type  \n",
       "0                  0.0      2.0      0.0               0.0  \n",
       "1                  0.0      2.0      0.0               0.0  \n",
       "2                  0.0      2.0      0.0               0.0  \n",
       "3                  2.0      2.0      0.0               0.0  \n",
       "4                  0.0      2.0      0.0               0.0  "
      ]
     },
     "execution_count": 23,
     "metadata": {},
     "output_type": "execute_result"
    }
   ],
   "source": [
    "X_test_base=pd.concat([df1_test,df2_test],axis=1)\n",
    "X_test_base.head()"
   ]
  },
  {
   "cell_type": "markdown",
   "metadata": {
    "id": "O1VYZrWwXYLj"
   },
   "source": [
    "# Create baseline models\n",
    "\n",
    "After the initial data pre-processing stage, we first build three vanilla classification models which will\n",
    "be trained on the imbalanced data and the set of existing features. These will be our baseline\n",
    "models. Then, we will correct for class imbalances and we will use the insights from the feature\n",
    "engineering process, to enhance the performance of our baseline classification models. Finally, we\n",
    "will optimise the hyperparameters of each model and we will select the best model for the final out\n",
    "of sample testing.\n",
    "\n",
    "We will try the following three classification models on the train set with repeated K-fold cross\n",
    "validation 10-times with different randomisation in each repetition. (the training set will be divided\n",
    "into 5 subsets, and for each iteration one subset is taken as the validation set and the remaining\n",
    "subsets as the training sets).\n",
    "• Logistic Regression\n",
    "• Decision Tree Classifier\n",
    "• Random Forest"
   ]
  },
  {
   "cell_type": "code",
   "execution_count": 24,
   "metadata": {
    "id": "VFt4WKQAXYLk"
   },
   "outputs": [],
   "source": [
    "# Write a function that computer the ROC\n",
    "def createROC(models, X, y, X_test, y_test):\n",
    "    false_p, true_p = [], [] ##false postives and true positives\n",
    "\n",
    "    for i in models.keys():  ##dict of models\n",
    "        models[i].fit(X, y)\n",
    "\n",
    "        fp, tp, threshold = roc_curve(y_test, models[i].predict_proba(X_test)[:,1]) ##roc_curve function\n",
    "\n",
    "        true_p.append(tp)\n",
    "        false_p.append(fp)\n",
    "        \n",
    "    return true_p, false_p ##returning the true postive and false positive"
   ]
  },
  {
   "cell_type": "code",
   "execution_count": 25,
   "metadata": {
    "colab": {
     "base_uri": "https://localhost:8080/"
    },
    "id": "lSbLbCOXXYLk",
    "outputId": "a7efd2a8-b4aa-40e0-f4b9-c1a81441fc31"
   },
   "outputs": [
    {
     "name": "stdout",
     "output_type": "stream",
     "text": [
      "Logistic Regression [0.75256954 0.71533159 0.68264132 0.76407129 0.68772738 0.67452906\n",
      " 0.74274396 0.74826178 0.76990864 0.71313364 0.71575985 0.69905784\n",
      " 0.70436006 0.73470511 0.74977767 0.71644838 0.73599321 0.72150133\n",
      " 0.70157248 0.75648799 0.71847214 0.72049107 0.74447345 0.7081328\n",
      " 0.69728757 0.71123373 0.75729647 0.73752931 0.71806532 0.73314334] 0.724423578484193\n",
      "Random Forest [0.70397259 0.7072355  0.63253528 0.77875438 0.64427197 0.66448379\n",
      " 0.75226372 0.72746382 0.76833212 0.69005174 0.66742801 0.68678114\n",
      " 0.68098948 0.71100824 0.7578624  0.70565527 0.72517989 0.703149\n",
      " 0.66250303 0.75426469 0.71631047 0.70146423 0.70193327 0.68463986\n",
      " 0.66195731 0.71056674 0.72627132 0.73779206 0.7192174  0.71929825] 0.7067878992363669\n",
      "Decision Tree [0.54788319 0.54920874 0.52821397 0.57544457 0.52388027 0.53139906\n",
      " 0.5393322  0.50963093 0.55358153 0.49026801 0.55331797 0.52352353\n",
      " 0.51922057 0.53701362 0.52722532 0.54575956 0.58072601 0.55463255\n",
      " 0.4928248  0.58234295 0.54131658 0.50796354 0.52934579 0.54002162\n",
      " 0.56433422 0.56756811 0.56245452 0.55598674 0.50801399 0.53087355] 0.5391102678907151\n"
     ]
    }
   ],
   "source": [
    "# Create a best estimate by running the unbalanced dataset through each initial model\n",
    "# Then scoring the model using 3-fold cross validation\n",
    "models = {'Logistic Regression': LogisticRegression(C=5),\n",
    "          'Random Forest': RandomForestClassifier(max_features=\"sqrt\",max_depth=3,n_estimators=100),\n",
    "         \"Decision Tree\": DecisionTreeClassifier()}\n",
    "cv = RepeatedStratifiedKFold(n_splits=10, n_repeats=3, random_state=1)\n",
    "\n",
    "unbalset = {}\n",
    "for i in models.keys():\n",
    "    scores = cross_val_score(models[i], X_train_base, y_train, scoring='roc_auc',cv=cv)\n",
    "    unbalset[i] = scores\n",
    "    print(i, scores, np.mean(scores))"
   ]
  },
  {
   "cell_type": "code",
   "execution_count": 26,
   "metadata": {
    "colab": {
     "base_uri": "https://localhost:8080/"
    },
    "id": "n41LBrQvXYLl",
    "outputId": "c0770789-aa05-47fd-da23-91e7713aef31"
   },
   "outputs": [
    {
     "name": "stdout",
     "output_type": "stream",
     "text": [
      "Logistic Regression [0.71402978 0.71346994 0.69208375 0.66017243 0.63530702 0.79758772\n",
      " 0.6691886  0.71502193 0.70383772 0.71974809 0.59702161 0.78177136\n",
      " 0.8092039  0.64584033 0.70548246 0.72203947 0.68991228 0.70559211\n",
      " 0.62796053 0.66149348 0.69689844 0.67943119 0.69085209 0.65289441\n",
      " 0.71063596 0.72982456 0.70317982 0.68958333 0.71787281 0.71783626] 0.6985257793505896\n",
      "Random Forest [0.72343523 0.6966745  0.69185981 0.61941552 0.60822368 0.80449561\n",
      " 0.65186404 0.69912281 0.7129386  0.68308592 0.64416079 0.77337364\n",
      " 0.79397604 0.62266264 0.68059211 0.68870614 0.67850877 0.69714912\n",
      " 0.63300439 0.63720198 0.6602844  0.63889822 0.66498712 0.65793304\n",
      " 0.71074561 0.72949561 0.67828947 0.67565789 0.67532895 0.7008547 ] 0.6844308787775808\n",
      "Decision Tree [0.65843691 0.55833613 0.62215877 0.53269511 0.51447368 0.49605263\n",
      " 0.53881579 0.50942982 0.53574561 0.51265182 0.536782   0.51741126\n",
      " 0.60581122 0.51959467 0.58201754 0.59013158 0.58201754 0.47631579\n",
      " 0.49824561 0.52361673 0.5621431  0.49776061 0.52586496 0.46612921\n",
      " 0.50482456 0.60789474 0.55416667 0.5254386  0.63201754 0.53896761] 0.5441982612308399\n"
     ]
    }
   ],
   "source": [
    "test_scores={}\n",
    "for i in models.keys():\n",
    "    scores = cross_val_score(models[i], X_test_base - np.min(X_test_base) + 1, y_test, scoring='roc_auc',cv=cv)\n",
    "    test_scores[i] = scores\n",
    "    print(i, scores, np.mean(scores))"
   ]
  },
  {
   "cell_type": "code",
   "execution_count": 27,
   "metadata": {
    "id": "8ZLHNflHXYLn"
   },
   "outputs": [],
   "source": [
    "# Computing the ROC curves for the models and finding the true positive (TP) and false positives (FP)\n",
    "tp, fp = createROC(models, X_train_base - np.min(X_train_base) + 1, y_train, X_test_base - np.min(X_test_base) + 1, y_test)"
   ]
  },
  {
   "cell_type": "markdown",
   "metadata": {},
   "source": [
    "**Baseline classification models** \n",
    "\n",
    "* We have trained three classification models on the imbalanced data using the set of existing features. The cross-validation scores and the AUC-ROC curves suggest that: Logistic Regression performs marginally better than the Random Forest model and significantly better than the Decision Tree Classifier. \n",
    "* If we look at the recall score for both classes, we observe that the overrepresented class in the dataset may have benefitted from the higher quantity of training data, because it has consistently higher values than the recall score of the marginal class.\n",
    "* As indicated by the confusion matrix, Logistic Regression –i.e., our best performing baseline model- can predict non-defaulting loans with a good accuracy of 99% but cannot predict well defaulting loans (only 8 out of 395 default loans were predicted correctly)."
   ]
  },
  {
   "cell_type": "code",
   "execution_count": 42,
   "metadata": {
    "colab": {
     "base_uri": "https://localhost:8080/",
     "height": 0
    },
    "id": "82ROSS4IXYLn",
    "outputId": "98e92589-b192-48e6-d3b8-493822d8295c"
   },
   "outputs": [
    {
     "data": {
      "text/plain": [
       "(0.0, 1.0)"
      ]
     },
     "execution_count": 42,
     "metadata": {},
     "output_type": "execute_result"
    },
    {
     "data": {
      "image/png": "[encoded data removed]",
      "text/plain": [
       "<Figure size 1440x504 with 2 Axes>"
      ]
     },
     "metadata": {},
     "output_type": "display_data"
    }
   ],
   "source": [
    "# Plot the box plot for cross validation scores\n",
    "# Plot the ROC curve for all tested models\n",
    "# Plot the confusion matrix for the logistic regression\n",
    "fig, axes = plt.subplots(nrows=1, ncols=2, figsize=(20,7))\n",
    "\n",
    "ax = pd.DataFrame(unbalset).boxplot(widths=(0.9,0.9,0.9), grid=False, vert=False, ax=axes[0],fontsize=14)\n",
    "ax.set_ylabel('Classifier',fontsize=16)\n",
    "ax.set_xlabel('Cross-Validation Score',fontsize=16)\n",
    "\n",
    "for i in range(0, len(tp)):\n",
    "    axes[1].plot(fp[i], tp[i], lw=1)\n",
    "\n",
    "axes[1].plot([0, 1], [0, 1], '--k', lw=1)\n",
    "axes[1].legend(models.keys(),fontsize=14)\n",
    "axes[1].set_ylabel('True Positive Rate',fontsize=16)\n",
    "axes[1].set_xlabel('False Positive Rate',fontsize=16)\n",
    "axes[1].set_xlim(0,1)\n",
    "axes[1].set_ylim(0,1)\n",
    "\n",
    "\n",
    "\n",
    "#cm = confusion_matrix(y_test, predict).T\n",
    "#cm = cm.astype('float')/cm.sum(axis=0)\n",
    "\n",
    "#ax = sns.heatmap(cm, annot=True, cmap='Blues', ax=axes[2]);\n",
    "#ax.set_xlabel('True Value')\n",
    "#ax.set_ylabel('Predicted Value')\n",
    "#ax.axis('equal')"
   ]
  },
  {
   "cell_type": "markdown",
   "metadata": {
    "id": "5XlzitqWXYLp"
   },
   "source": [
    "## Feature Importance analysis"
   ]
  },
  {
   "cell_type": "markdown",
   "metadata": {},
   "source": [
    "### Random forest feature importance"
   ]
  },
  {
   "cell_type": "code",
   "execution_count": 29,
   "metadata": {
    "id": "qo4OWo5RXYLs",
    "outputId": "34b16384-6ce4-4387-9945-cace5f470440"
   },
   "outputs": [
    {
     "data": {
      "text/plain": [
       "RandomForestRegressor()"
      ]
     },
     "execution_count": 29,
     "metadata": {},
     "output_type": "execute_result"
    }
   ],
   "source": [
    "#https://mljar.com/blog/feature-importance-in-random-forest/\n",
    "from sklearn.feature_selection import SelectFromModel\n",
    "from sklearn.ensemble import RandomForestRegressor\n",
    "\n",
    "rf = RandomForestRegressor(n_estimators=100)\n",
    "rf.fit(X_train_base, y_train)\n"
   ]
  },
  {
   "cell_type": "code",
   "execution_count": 30,
   "metadata": {
    "id": "GeF81EuLXYLt",
    "outputId": "5302a4e1-61fc-460b-a5e1-9fb6072febc3"
   },
   "outputs": [
    {
     "data": {
      "text/plain": [
       "array([6.28614378e-02, 2.01070915e-02, 8.45876757e-02, 4.19777361e-02,\n",
       "       1.06645487e-01, 6.43478862e-02, 5.55705440e-02, 8.47945717e-03,\n",
       "       9.36541268e-02, 6.64779479e-02, 3.22576524e-02, 6.82953284e-03,\n",
       "       9.38111045e-02, 7.17156788e-02, 8.16204258e-02, 1.48407575e-02,\n",
       "       1.77197040e-02, 7.64859001e-02, 0.00000000e+00, 9.85393887e-06])"
      ]
     },
     "execution_count": 30,
     "metadata": {},
     "output_type": "execute_result"
    }
   ],
   "source": [
    "rf.feature_importances_\n"
   ]
  },
  {
   "cell_type": "code",
   "execution_count": 32,
   "metadata": {
    "id": "Sw_woSD_XYLt",
    "outputId": "a781526f-06f3-4468-e276-2dc6103c8ff5"
   },
   "outputs": [
    {
     "data": {
      "text/plain": [
       "Text(0.5, 0, 'Random Forest Feature Importance')"
      ]
     },
     "execution_count": 32,
     "metadata": {},
     "output_type": "execute_result"
    },
    {
     "data": {
      "image/png": "[encoded data removed]",
      "text/plain": [
       "<Figure size 432x288 with 1 Axes>"
      ]
     },
     "metadata": {},
     "output_type": "display_data"
    }
   ],
   "source": [
    "sorted_idx = rf.feature_importances_.argsort()\n",
    "plt.barh(X_train_base.columns[sorted_idx], rf.feature_importances_[sorted_idx])\n",
    "plt.xlabel(\"Random Forest Feature Importance\")"
   ]
  },
  {
   "cell_type": "markdown",
   "metadata": {},
   "source": [
    "## Permutation feature importance"
   ]
  },
  {
   "cell_type": "markdown",
   "metadata": {
    "id": "KSOrPXxmXYLu"
   },
   "source": [
    "Permutation Based Feature Importance (with scikit-learn)\n",
    "The permutation based importance can be used to overcome drawbacks of default feature importance computed with mean impurity decrease. It is implemented in scikit-learn as permutation_importance method. As arguments it requires trained model (can be any model compatible with scikit-learn API) and validation (test data). This method will randomly shuffle each feature and compute the change in the model’s performance. The features which impact the performance the most are the most important one.\n",
    "\n",
    "The permutation importance can be easily computed:\n",
    "\n"
   ]
  },
  {
   "cell_type": "code",
   "execution_count": 34,
   "metadata": {
    "id": "r1d6upDBXYLu"
   },
   "outputs": [],
   "source": [
    "from sklearn.inspection import permutation_importance\n",
    "\n",
    "perm_importance = sklearn.inspection.permutation_importance(rf, X_test_base, y_test)"
   ]
  },
  {
   "cell_type": "code",
   "execution_count": 36,
   "metadata": {
    "id": "Ccvt6swcXYLv",
    "outputId": "3fd65935-a696-44fd-f8c9-d1f74565b5a1"
   },
   "outputs": [
    {
     "data": {
      "text/plain": [
       "Text(0.5, 0, 'Permutation Importance')"
      ]
     },
     "execution_count": 36,
     "metadata": {},
     "output_type": "execute_result"
    },
    {
     "data": {
      "image/png": "[encoded data removed]",
      "text/plain": [
       "<Figure size 432x288 with 1 Axes>"
      ]
     },
     "metadata": {},
     "output_type": "display_data"
    }
   ],
   "source": [
    "sorted_idx = perm_importance.importances_mean.argsort()\n",
    "plt.barh(X_test_base.columns[sorted_idx], perm_importance.importances_mean[sorted_idx])\n",
    "plt.xlabel(\"Permutation Importance\")"
   ]
  },
  {
   "cell_type": "code",
   "execution_count": 37,
   "metadata": {
    "id": "DpoohqpUXYLv",
    "outputId": "3036e5ac-4047-4339-8e6a-57aff2bc7300"
   },
   "outputs": [
    {
     "data": {
      "text/plain": [
       "array([-0.00257982, -0.00048022,  0.        ,  0.        ,  0.00019551,\n",
       "        0.00059603,  0.00082148,  0.00150635,  0.00162692,  0.00217823,\n",
       "        0.00323192,  0.00790302,  0.0160294 ,  0.01786103,  0.01851859,\n",
       "        0.02218013,  0.02366766,  0.02537576,  0.03185479,  0.04645427])"
      ]
     },
     "execution_count": 37,
     "metadata": {},
     "output_type": "execute_result"
    }
   ],
   "source": [
    "perm_importance.importances_mean[sorted_idx]"
   ]
  },
  {
   "cell_type": "markdown",
   "metadata": {
    "id": "fJJYuQr2XYLv"
   },
   "source": [
    "### Feature Importance Computed with SHAP Values\n"
   ]
  },
  {
   "cell_type": "code",
   "execution_count": 38,
   "metadata": {
    "id": "PUyglEGvXYLw"
   },
   "outputs": [],
   "source": [
    "import shap"
   ]
  },
  {
   "cell_type": "code",
   "execution_count": 39,
   "metadata": {
    "id": "mmKX6L1lXYLw"
   },
   "outputs": [],
   "source": [
    "explainer = shap.TreeExplainer(rf)\n",
    "shap_values = explainer.shap_values(X_test_base)"
   ]
  },
  {
   "cell_type": "code",
   "execution_count": 40,
   "metadata": {
    "id": "w-s4bHyXXYLw",
    "outputId": "de59742e-68ab-477f-c2de-4ba6664ce63a"
   },
   "outputs": [
    {
     "data": {
      "image/png": "[encoded data removed]",
      "text/plain": [
       "<Figure size 576x684 with 1 Axes>"
      ]
     },
     "metadata": {},
     "output_type": "display_data"
    }
   ],
   "source": [
    "shap.summary_plot(shap_values, X_test_base, plot_type=\"bar\")"
   ]
  },
  {
   "cell_type": "code",
   "execution_count": 41,
   "metadata": {
    "id": "_JurjLg2XYLw",
    "outputId": "ce943ce3-5f58-4213-8aa6-e6871a4311d0"
   },
   "outputs": [
    {
     "data": {
      "image/png": "[encoded data removed]",
      "text/plain": [
       "<Figure size 576x684 with 2 Axes>"
      ]
     },
     "metadata": {},
     "output_type": "display_data"
    }
   ],
   "source": [
    "shap.summary_plot(shap_values, X_test_base)"
   ]
  },
  {
   "cell_type": "markdown",
   "metadata": {},
   "source": [
    "### Mutual Information Score"
   ]
  },
  {
   "cell_type": "code",
   "execution_count": 43,
   "metadata": {
    "id": "kuF68iGmXYLx",
    "outputId": "28db6cf9-a972-4d25-b3aa-a38394d51ec0"
   },
   "outputs": [
    {
     "ename": "NameError",
     "evalue": "name 'discrete_features' is not defined",
     "output_type": "error",
     "traceback": [
      "\u001b[1;31m---------------------------------------------------------------------------\u001b[0m",
      "\u001b[1;31mNameError\u001b[0m                                 Traceback (most recent call last)",
      "\u001b[1;32m<ipython-input-43-71150cc18fce>\u001b[0m in \u001b[0;36m<module>\u001b[1;34m\u001b[0m\n\u001b[0;32m      9\u001b[0m     \u001b[1;32mreturn\u001b[0m \u001b[0mmi_scores\u001b[0m\u001b[1;33m\u001b[0m\u001b[1;33m\u001b[0m\u001b[0m\n\u001b[0;32m     10\u001b[0m \u001b[1;33m\u001b[0m\u001b[0m\n\u001b[1;32m---> 11\u001b[1;33m \u001b[0mmi_scores\u001b[0m \u001b[1;33m=\u001b[0m \u001b[0mmake_mi_scores\u001b[0m\u001b[1;33m(\u001b[0m\u001b[0mX_train_base\u001b[0m\u001b[1;33m,\u001b[0m \u001b[0my_train\u001b[0m\u001b[1;33m,\u001b[0m \u001b[0mdiscrete_features\u001b[0m\u001b[1;33m)\u001b[0m\u001b[1;33m\u001b[0m\u001b[1;33m\u001b[0m\u001b[0m\n\u001b[0m\u001b[0;32m     12\u001b[0m \u001b[0mmi_scores\u001b[0m \u001b[1;31m# show a few features with their MI scores\u001b[0m\u001b[1;33m\u001b[0m\u001b[1;33m\u001b[0m\u001b[0m\n",
      "\u001b[1;31mNameError\u001b[0m: name 'discrete_features' is not defined"
     ]
    }
   ],
   "source": [
    "# Mutual information score\n",
    "\n",
    "from sklearn.feature_selection import mutual_info_regression\n",
    "\n",
    "def make_mi_scores(X, y, discrete_features):\n",
    "    mi_scores = mutual_info_regression(X, y, discrete_features=discrete_features)\n",
    "    mi_scores = pd.Series(mi_scores, name=\"MI Scores\", index=X.columns)\n",
    "    mi_scores = mi_scores.sort_values(ascending=False)\n",
    "    return mi_scores\n",
    "\n",
    "mi_scores = make_mi_scores(X_train_base, y_train, discrete_features)\n",
    "mi_scores # show a few features with their MI scores\n"
   ]
  },
  {
   "cell_type": "code",
   "execution_count": null,
   "metadata": {
    "id": "uovmmcY5XYLx",
    "outputId": "bc64fa75-fb7a-4cad-af59-81ac1ff4f0d9"
   },
   "outputs": [],
   "source": [
    "def plot_utility_scores(scores):\n",
    "    y = scores.sort_values(ascending=True)\n",
    "    width = np.arange(len(y))\n",
    "    ticks = list(y.index)\n",
    "    plt.barh(width, y)\n",
    "    plt.yticks(width, ticks)\n",
    "    plt.title(\"Mutual Information Scores\")\n",
    "\n",
    "\n",
    "plt.figure(dpi=100, figsize=(8, 5))\n",
    "plot_utility_scores(mi_scores)"
   ]
  },
  {
   "cell_type": "markdown",
   "metadata": {
    "id": "mZBiZ-FBXYLz"
   },
   "source": [
    "# Feature Engineering"
   ]
  },
  {
   "cell_type": "markdown",
   "metadata": {
    "id": "7AanvwM7XYLz"
   },
   "source": [
    "**Principal Component Analysis** \n"
   ]
  },
  {
   "cell_type": "code",
   "execution_count": 44,
   "metadata": {
    "id": "BUNz8F_bXYLz"
   },
   "outputs": [],
   "source": [
    "from sklearn.feature_selection import mutual_info_regression\n",
    "plt.style.use(\"seaborn-whitegrid\")\n",
    "plt.rc(\"figure\", autolayout=True)\n",
    "plt.rc(\n",
    "    \"axes\",\n",
    "    labelweight=\"bold\",\n",
    "    labelsize=\"large\",\n",
    "    titleweight=\"bold\",\n",
    "    titlesize=14,\n",
    "    titlepad=10,\n",
    ")\n",
    "\n",
    "def plot_variance(pca, width=8, dpi=100):\n",
    "    # Create figure\n",
    "    fig, axs = plt.subplots(1, 2)\n",
    "    n = pca.n_components_\n",
    "    grid = np.arange(1, n + 1)\n",
    "    # Explained variance\n",
    "    evr = pca.explained_variance_ratio_\n",
    "    axs[0].bar(grid, evr)\n",
    "    axs[0].set(\n",
    "        xlabel=\"Component\", title=\"% Explained Variance\", ylim=(0.0, 1.0)\n",
    "    )\n",
    "    # Cumulative Variance\n",
    "    cv = np.cumsum(evr)\n",
    "    axs[1].plot(np.r_[0, grid], np.r_[0, cv], \"o-\")\n",
    "    axs[1].set(\n",
    "        xlabel=\"Component\", title=\"% Cumulative Variance\", ylim=(0.0, 1.0)\n",
    "    )\n",
    "        # Set up figure\n",
    "    fig.set(figwidth=8, dpi=100)\n",
    "    return axs\n",
    "\n",
    "def make_mi_scores(X, y, discrete_features):\n",
    "    mi_scores = mutual_info_regression(X, y, discrete_features=discrete_features)\n",
    "    mi_scores = pd.Series(mi_scores, name=\"MI Scores\", index=X.columns)\n",
    "    mi_scores = mi_scores.sort_values(ascending=False)\n",
    "    return mi_scores\n",
    "\n"
   ]
  },
  {
   "cell_type": "code",
   "execution_count": 45,
   "metadata": {
    "id": "orG_fGtnXYLz"
   },
   "outputs": [],
   "source": [
    "\n",
    "#We've selected four features that cover a range of properties. Each of these features also has a high MI score with the target, price. We'll standardize the data since these features aren't naturally on the same scale.\n",
    "features=[\"dti\",\"log_annual_inc\",\"fico_score\",\"installment\",\"total_acc\"]\n",
    "X_scaled=X_train_base[features]\n",
    "X_scaled2=X_test_base[features]"
   ]
  },
  {
   "cell_type": "code",
   "execution_count": 46,
   "metadata": {
    "colab": {
     "base_uri": "https://localhost:8080/",
     "height": 195
    },
    "id": "lstqrv3uXYL0",
    "outputId": "b6871c5c-958d-4aa0-d367-edb374d03c4b"
   },
   "outputs": [
    {
     "data": {
      "text/html": [
       "<div>\n",
       "<style scoped>\n",
       "    .dataframe tbody tr th:only-of-type {\n",
       "        vertical-align: middle;\n",
       "    }\n",
       "\n",
       "    .dataframe tbody tr th {\n",
       "        vertical-align: top;\n",
       "    }\n",
       "\n",
       "    .dataframe thead th {\n",
       "        text-align: right;\n",
       "    }\n",
       "</style>\n",
       "<table border=\"1\" class=\"dataframe\">\n",
       "  <thead>\n",
       "    <tr style=\"text-align: right;\">\n",
       "      <th></th>\n",
       "      <th>PC1</th>\n",
       "      <th>PC2</th>\n",
       "      <th>PC3</th>\n",
       "      <th>PC4</th>\n",
       "      <th>PC5</th>\n",
       "    </tr>\n",
       "  </thead>\n",
       "  <tbody>\n",
       "    <tr>\n",
       "      <th>0</th>\n",
       "      <td>-0.662758</td>\n",
       "      <td>-0.278486</td>\n",
       "      <td>0.186795</td>\n",
       "      <td>-0.109952</td>\n",
       "      <td>-0.401135</td>\n",
       "    </tr>\n",
       "    <tr>\n",
       "      <th>1</th>\n",
       "      <td>-2.207688</td>\n",
       "      <td>0.564232</td>\n",
       "      <td>0.680239</td>\n",
       "      <td>0.474564</td>\n",
       "      <td>0.651176</td>\n",
       "    </tr>\n",
       "    <tr>\n",
       "      <th>2</th>\n",
       "      <td>0.024117</td>\n",
       "      <td>0.358189</td>\n",
       "      <td>-1.399359</td>\n",
       "      <td>-0.360303</td>\n",
       "      <td>0.718837</td>\n",
       "    </tr>\n",
       "    <tr>\n",
       "      <th>3</th>\n",
       "      <td>0.579734</td>\n",
       "      <td>-0.553635</td>\n",
       "      <td>0.048700</td>\n",
       "      <td>0.427576</td>\n",
       "      <td>-0.597409</td>\n",
       "    </tr>\n",
       "    <tr>\n",
       "      <th>4</th>\n",
       "      <td>-0.874425</td>\n",
       "      <td>0.325765</td>\n",
       "      <td>-0.347298</td>\n",
       "      <td>-0.594366</td>\n",
       "      <td>-0.892426</td>\n",
       "    </tr>\n",
       "  </tbody>\n",
       "</table>\n",
       "</div>"
      ],
      "text/plain": [
       "        PC1       PC2       PC3       PC4       PC5\n",
       "0 -0.662758 -0.278486  0.186795 -0.109952 -0.401135\n",
       "1 -2.207688  0.564232  0.680239  0.474564  0.651176\n",
       "2  0.024117  0.358189 -1.399359 -0.360303  0.718837\n",
       "3  0.579734 -0.553635  0.048700  0.427576 -0.597409\n",
       "4 -0.874425  0.325765 -0.347298 -0.594366 -0.892426"
      ]
     },
     "execution_count": 46,
     "metadata": {},
     "output_type": "execute_result"
    }
   ],
   "source": [
    "from sklearn.decomposition import PCA\n",
    "\n",
    "# Create principal components\n",
    "pca = PCA()\n",
    "X_pca = pca.fit_transform(X_scaled)\n",
    "\n",
    "# Convert to dataframe\n",
    "component_names = [f\"PC{i+1}\" for i in range(X_pca.shape[1])]\n",
    "X_pca = pd.DataFrame(X_pca, columns=component_names)\n",
    "\n",
    "X_pca.head()"
   ]
  },
  {
   "cell_type": "code",
   "execution_count": 47,
   "metadata": {
    "colab": {
     "base_uri": "https://localhost:8080/",
     "height": 195
    },
    "id": "MEgLgsBMXYL0",
    "outputId": "6090b755-28ab-4771-91e1-9f5dfa1779ed"
   },
   "outputs": [
    {
     "data": {
      "text/html": [
       "<div>\n",
       "<style scoped>\n",
       "    .dataframe tbody tr th:only-of-type {\n",
       "        vertical-align: middle;\n",
       "    }\n",
       "\n",
       "    .dataframe tbody tr th {\n",
       "        vertical-align: top;\n",
       "    }\n",
       "\n",
       "    .dataframe thead th {\n",
       "        text-align: right;\n",
       "    }\n",
       "</style>\n",
       "<table border=\"1\" class=\"dataframe\">\n",
       "  <thead>\n",
       "    <tr style=\"text-align: right;\">\n",
       "      <th></th>\n",
       "      <th>PC1</th>\n",
       "      <th>PC2</th>\n",
       "      <th>PC3</th>\n",
       "      <th>PC4</th>\n",
       "      <th>PC5</th>\n",
       "    </tr>\n",
       "  </thead>\n",
       "  <tbody>\n",
       "    <tr>\n",
       "      <th>0</th>\n",
       "      <td>0.369635</td>\n",
       "      <td>0.605389</td>\n",
       "      <td>0.256820</td>\n",
       "      <td>-1.852639</td>\n",
       "      <td>0.363698</td>\n",
       "    </tr>\n",
       "    <tr>\n",
       "      <th>1</th>\n",
       "      <td>0.793339</td>\n",
       "      <td>-1.361089</td>\n",
       "      <td>-2.549365</td>\n",
       "      <td>-0.102546</td>\n",
       "      <td>-0.146252</td>\n",
       "    </tr>\n",
       "    <tr>\n",
       "      <th>2</th>\n",
       "      <td>-0.131287</td>\n",
       "      <td>-0.118843</td>\n",
       "      <td>0.562375</td>\n",
       "      <td>-0.593769</td>\n",
       "      <td>0.848231</td>\n",
       "    </tr>\n",
       "    <tr>\n",
       "      <th>3</th>\n",
       "      <td>1.418173</td>\n",
       "      <td>1.720550</td>\n",
       "      <td>0.789520</td>\n",
       "      <td>0.621453</td>\n",
       "      <td>0.234578</td>\n",
       "    </tr>\n",
       "    <tr>\n",
       "      <th>4</th>\n",
       "      <td>1.079930</td>\n",
       "      <td>-0.535470</td>\n",
       "      <td>-0.006618</td>\n",
       "      <td>-0.130577</td>\n",
       "      <td>-0.147317</td>\n",
       "    </tr>\n",
       "  </tbody>\n",
       "</table>\n",
       "</div>"
      ],
      "text/plain": [
       "        PC1       PC2       PC3       PC4       PC5\n",
       "0  0.369635  0.605389  0.256820 -1.852639  0.363698\n",
       "1  0.793339 -1.361089 -2.549365 -0.102546 -0.146252\n",
       "2 -0.131287 -0.118843  0.562375 -0.593769  0.848231\n",
       "3  1.418173  1.720550  0.789520  0.621453  0.234578\n",
       "4  1.079930 -0.535470 -0.006618 -0.130577 -0.147317"
      ]
     },
     "execution_count": 47,
     "metadata": {},
     "output_type": "execute_result"
    }
   ],
   "source": [
    "X_pca2 = pca.fit_transform(X_scaled2)\n",
    "\n",
    "# Convert to dataframe\n",
    "component_names = [f\"PC{i+1}\" for i in range(X_pca2.shape[1])]\n",
    "X_pca2 = pd.DataFrame(X_pca2, columns=component_names)\n",
    "\n",
    "X_pca2.head()"
   ]
  },
  {
   "cell_type": "code",
   "execution_count": 48,
   "metadata": {
    "id": "z7kjbTlRXYL0"
   },
   "outputs": [],
   "source": [
    "loadings = pd.DataFrame(\n",
    "    pca.components_.T,  # transpose the matrix of loadings\n",
    "    columns=component_names,  # so the columns are the principal components\n",
    "    index=features,  # and the rows are the original features\n",
    ")\n",
    "loadings\n",
    "\n",
    "loadings.to_excel(\"loadings3.xlsx\")  "
   ]
  },
  {
   "cell_type": "code",
   "execution_count": 49,
   "metadata": {
    "colab": {
     "base_uri": "https://localhost:8080/",
     "height": 407
    },
    "id": "KDdmDboTXYL0",
    "outputId": "929d974e-cfb3-4bdf-f4c9-729cc949ff80"
   },
   "outputs": [
    {
     "data": {
      "image/png": "[encoded data removed]",
      "text/plain": [
       "<Figure size 800x400 with 2 Axes>"
      ]
     },
     "metadata": {},
     "output_type": "display_data"
    }
   ],
   "source": [
    "# Look at explained variance\n",
    "plot_variance(pca);"
   ]
  },
  {
   "cell_type": "code",
   "execution_count": 50,
   "metadata": {
    "colab": {
     "base_uri": "https://localhost:8080/"
    },
    "id": "Q34pmKjNXYL1",
    "outputId": "e619e30c-eeea-4bb0-c9cc-1dd43c21b297"
   },
   "outputs": [
    {
     "data": {
      "text/plain": [
       "PC3    0.017092\n",
       "PC2    0.015012\n",
       "PC1    0.003831\n",
       "PC5    0.000000\n",
       "PC4    0.000000\n",
       "Name: MI Scores, dtype: float64"
      ]
     },
     "execution_count": 50,
     "metadata": {},
     "output_type": "execute_result"
    }
   ],
   "source": [
    "mi_scores = make_mi_scores(X_pca, y_train, discrete_features=False)\n",
    "mi_scores"
   ]
  },
  {
   "cell_type": "code",
   "execution_count": 51,
   "metadata": {
    "colab": {
     "base_uri": "https://localhost:8080/",
     "height": 402
    },
    "id": "h6dlSUYPXYL1",
    "outputId": "019f20ce-c041-4419-bf7f-675025c03627"
   },
   "outputs": [
    {
     "data": {
      "text/html": [
       "<div>\n",
       "<style scoped>\n",
       "    .dataframe tbody tr th:only-of-type {\n",
       "        vertical-align: middle;\n",
       "    }\n",
       "\n",
       "    .dataframe tbody tr th {\n",
       "        vertical-align: top;\n",
       "    }\n",
       "\n",
       "    .dataframe thead th {\n",
       "        text-align: right;\n",
       "    }\n",
       "</style>\n",
       "<table border=\"1\" class=\"dataframe\">\n",
       "  <thead>\n",
       "    <tr style=\"text-align: right;\">\n",
       "      <th></th>\n",
       "      <th>dti</th>\n",
       "      <th>log_annual_inc</th>\n",
       "      <th>fico_score</th>\n",
       "      <th>installment</th>\n",
       "      <th>total_acc</th>\n",
       "    </tr>\n",
       "  </thead>\n",
       "  <tbody>\n",
       "    <tr>\n",
       "      <th>3333</th>\n",
       "      <td>-1.569623</td>\n",
       "      <td>1.900470</td>\n",
       "      <td>3.195836</td>\n",
       "      <td>0.212310</td>\n",
       "      <td>-0.866403</td>\n",
       "    </tr>\n",
       "    <tr>\n",
       "      <th>5982</th>\n",
       "      <td>-1.663628</td>\n",
       "      <td>2.488583</td>\n",
       "      <td>1.807843</td>\n",
       "      <td>3.020859</td>\n",
       "      <td>-1.719700</td>\n",
       "    </tr>\n",
       "    <tr>\n",
       "      <th>3869</th>\n",
       "      <td>-1.631500</td>\n",
       "      <td>0.746682</td>\n",
       "      <td>2.943474</td>\n",
       "      <td>0.739181</td>\n",
       "      <td>-1.549041</td>\n",
       "    </tr>\n",
       "    <tr>\n",
       "      <th>4779</th>\n",
       "      <td>-1.558914</td>\n",
       "      <td>1.443930</td>\n",
       "      <td>2.943474</td>\n",
       "      <td>2.735581</td>\n",
       "      <td>-0.013107</td>\n",
       "    </tr>\n",
       "    <tr>\n",
       "      <th>760</th>\n",
       "      <td>-1.132917</td>\n",
       "      <td>2.449665</td>\n",
       "      <td>3.195836</td>\n",
       "      <td>2.770574</td>\n",
       "      <td>0.498871</td>\n",
       "    </tr>\n",
       "    <tr>\n",
       "      <th>...</th>\n",
       "      <td>...</td>\n",
       "      <td>...</td>\n",
       "      <td>...</td>\n",
       "      <td>...</td>\n",
       "      <td>...</td>\n",
       "    </tr>\n",
       "    <tr>\n",
       "      <th>4773</th>\n",
       "      <td>2.959273</td>\n",
       "      <td>-0.400169</td>\n",
       "      <td>-1.220505</td>\n",
       "      <td>-0.796206</td>\n",
       "      <td>0.328212</td>\n",
       "    </tr>\n",
       "    <tr>\n",
       "      <th>1412</th>\n",
       "      <td>2.216753</td>\n",
       "      <td>-1.749661</td>\n",
       "      <td>-1.220505</td>\n",
       "      <td>-0.274342</td>\n",
       "      <td>1.352168</td>\n",
       "    </tr>\n",
       "    <tr>\n",
       "      <th>452</th>\n",
       "      <td>2.872408</td>\n",
       "      <td>-0.672543</td>\n",
       "      <td>-1.220505</td>\n",
       "      <td>-1.007593</td>\n",
       "      <td>0.498871</td>\n",
       "    </tr>\n",
       "    <tr>\n",
       "      <th>3526</th>\n",
       "      <td>2.859319</td>\n",
       "      <td>-0.213608</td>\n",
       "      <td>-0.968143</td>\n",
       "      <td>-0.904265</td>\n",
       "      <td>1.864146</td>\n",
       "    </tr>\n",
       "    <tr>\n",
       "      <th>4027</th>\n",
       "      <td>3.065178</td>\n",
       "      <td>-2.719400</td>\n",
       "      <td>-0.968143</td>\n",
       "      <td>-0.391699</td>\n",
       "      <td>-0.183766</td>\n",
       "    </tr>\n",
       "  </tbody>\n",
       "</table>\n",
       "<p>6250 rows × 5 columns</p>\n",
       "</div>"
      ],
      "text/plain": [
       "           dti  log_annual_inc  fico_score  installment  total_acc\n",
       "3333 -1.569623        1.900470    3.195836     0.212310  -0.866403\n",
       "5982 -1.663628        2.488583    1.807843     3.020859  -1.719700\n",
       "3869 -1.631500        0.746682    2.943474     0.739181  -1.549041\n",
       "4779 -1.558914        1.443930    2.943474     2.735581  -0.013107\n",
       "760  -1.132917        2.449665    3.195836     2.770574   0.498871\n",
       "...        ...             ...         ...          ...        ...\n",
       "4773  2.959273       -0.400169   -1.220505    -0.796206   0.328212\n",
       "1412  2.216753       -1.749661   -1.220505    -0.274342   1.352168\n",
       "452   2.872408       -0.672543   -1.220505    -1.007593   0.498871\n",
       "3526  2.859319       -0.213608   -0.968143    -0.904265   1.864146\n",
       "4027  3.065178       -2.719400   -0.968143    -0.391699  -0.183766\n",
       "\n",
       "[6250 rows x 5 columns]"
      ]
     },
     "execution_count": 51,
     "metadata": {},
     "output_type": "execute_result"
    }
   ],
   "source": [
    "# Show dataframe sorted by PC3\n",
    "idx = X_pca[\"PC2\"].sort_values(ascending=False).index\n",
    "cols = features\n",
    "X_train_base.loc[idx, cols]"
   ]
  },
  {
   "cell_type": "code",
   "execution_count": 52,
   "metadata": {
    "colab": {
     "base_uri": "https://localhost:8080/"
    },
    "id": "ATDPV50zXYL1",
    "outputId": "53a6aba4-0897-401e-97a5-b8816287530f"
   },
   "outputs": [
    {
     "data": {
      "text/plain": [
       "Index(['loan_amnt', 'term', 'installment', 'emp_length', 'dti',\n",
       "       'earliest_cr_line', 'open_acc', 'pub_rec', 'revol_util', 'total_acc',\n",
       "       'mort_acc', 'pub_rec_bankruptcies', 'log_annual_inc', 'fico_score',\n",
       "       'log_revol_bal', 'home_ownership', 'verification_status', 'issue_d',\n",
       "       'purpose', 'application_type'],\n",
       "      dtype='object')"
      ]
     },
     "execution_count": 52,
     "metadata": {},
     "output_type": "execute_result"
    }
   ],
   "source": [
    "X_train_base.columns"
   ]
  },
  {
   "cell_type": "code",
   "execution_count": 53,
   "metadata": {
    "id": "lsSGbYOYXYL2"
   },
   "outputs": [],
   "source": [
    "# To express this contrast, let's create a new ratio feature:\n",
    "#PCI shows a contrast between loan_amount and dti\n",
    "#PC2 shows a contrast between fico_score and dti\n",
    "#PC4 shows a contrast between dti and term\n",
    "#PC5 contrast between term and fico score\n",
    "#PC6 contrast between loan_amnt and installment\n",
    "\n",
    "X_train_base[\"inc_fico\"] = (np.exp(X_train_base.log_annual_inc)) /X_train_base.fico_score\n",
    "X_train_base[\"installment_fico\"] = X_train_base.installment/X_train_base.fico_score\n",
    "X_train_base[\"inc_installment\"] = np.exp(X_train_base.log_annual_inc) /X_train_base.installment\n",
    "X_train_base[\"inc_total\"] = np.exp(X_train_base.log_annual_inc) /X_train_base.total_acc\n"
   ]
  },
  {
   "cell_type": "code",
   "execution_count": 55,
   "metadata": {
    "id": "bAQOQYiKXYL3"
   },
   "outputs": [],
   "source": [
    "X_test_base[\"inc_fico\"] = np.exp(X_test_base.log_annual_inc) /X_test_base.fico_score\n",
    "X_test_base[\"installment_fico\"] = X_test_base.installment/X_test_base.fico_score\n",
    "X_test_base[\"inc_installment\"] = np.exp(X_test_base.log_annual_inc) /X_test_base.installment\n",
    "X_test_base[\"inc_total\"] = np.exp(X_test_base.log_annual_inc) /X_test_base.total_acc\n"
   ]
  },
  {
   "cell_type": "code",
   "execution_count": 56,
   "metadata": {
    "colab": {
     "base_uri": "https://localhost:8080/"
    },
    "id": "AlUBlc4DXYL4",
    "outputId": "3e340de3-4da8-4840-ece9-60d7cfec3ee4"
   },
   "outputs": [
    {
     "name": "stdout",
     "output_type": "stream",
     "text": [
      "Mean ROC AUC Random Forest Classifier: 0.703\n"
     ]
    }
   ],
   "source": [
    "# define model\n",
    "model = RandomForestClassifier(max_features=\"sqrt\",max_depth=3,n_estimators=100)\n",
    "# define evaluation procedure\n",
    "cv = RepeatedStratifiedKFold(n_splits=5, n_repeats=10, random_state=1)\n",
    "# evaluate model\n",
    "scores = cross_val_score(model, X_train_base, y_train, scoring='roc_auc', cv=cv, n_jobs=-1)\n",
    "# summarize performance\n",
    "print('Mean ROC AUC Random Forest Classifier: %.3f' % np.mean(scores))"
   ]
  },
  {
   "cell_type": "code",
   "execution_count": 65,
   "metadata": {
    "colab": {
     "base_uri": "https://localhost:8080/"
    },
    "id": "NQEPVZTJXYL5",
    "outputId": "f6290f59-f530-4c5d-ed05-593e8d7da14c"
   },
   "outputs": [
    {
     "name": "stdout",
     "output_type": "stream",
     "text": [
      "0.6882584406659426\n"
     ]
    }
   ],
   "source": [
    "modelrf= RandomForestClassifier(max_features=\"sqrt\",max_depth=3,n_estimators=100)\n",
    "modelrf.fit(X_train_base, y_train)\n",
    "predict = modelrf.predict(X_test_base)\n",
    "print(sklearn.metrics.roc_auc_score(y_test, modelrf.predict_proba(X_test_base)[:,1]))\n"
   ]
  },
  {
   "cell_type": "markdown",
   "metadata": {},
   "source": [
    "# Enhanced Classification models\n",
    "\n",
    "We will see that correcting for class imbalances and adjusting the probability threshold for\n",
    "classification, can help to significantly increase the performance of the model for defaulting loans."
   ]
  },
  {
   "cell_type": "markdown",
   "metadata": {
    "id": "CpiArjQfXYL9"
   },
   "source": [
    "## Balanced"
   ]
  },
  {
   "cell_type": "code",
   "execution_count": 60,
   "metadata": {
    "id": "CgpwN4NvXYL9"
   },
   "outputs": [],
   "source": [
    "from imblearn.over_sampling import SMOTE\n",
    "from collections import Counter"
   ]
  },
  {
   "cell_type": "code",
   "execution_count": 61,
   "metadata": {
    "colab": {
     "base_uri": "https://localhost:8080/"
    },
    "id": "Tcmqd4A0XYL9",
    "outputId": "6537b682-b452-4a38-e3f0-8ebb973872e5"
   },
   "outputs": [
    {
     "name": "stdout",
     "output_type": "stream",
     "text": [
      "Counter({0: 5324, 1: 926})\n"
     ]
    }
   ],
   "source": [
    "# summarize class distribution\n",
    "counter = Counter(y_train)\n",
    "print(counter)"
   ]
  },
  {
   "cell_type": "code",
   "execution_count": 62,
   "metadata": {
    "colab": {
     "base_uri": "https://localhost:8080/"
    },
    "id": "4nVJhO1GXYL-",
    "outputId": "655d241c-286f-44af-cf09-61bc94d9aad5"
   },
   "outputs": [
    {
     "name": "stdout",
     "output_type": "stream",
     "text": [
      "Counter({0: 5324, 1: 5324})\n"
     ]
    }
   ],
   "source": [
    "from imblearn import under_sampling, over_sampling\n",
    "\n",
    "from imblearn.over_sampling import SMOTE\n",
    "from imblearn.over_sampling import BorderlineSMOTE\n",
    "\n",
    "oversample = BorderlineSMOTE()\n",
    "\n",
    "#oversample = SMOTE()\n",
    "X_balance, y_balance = oversample.fit_resample(X_train_base, y_train)\n",
    "# summarize the new class distribution\n",
    "counter = Counter(y_balance)\n",
    "print(counter)"
   ]
  },
  {
   "cell_type": "code",
   "execution_count": 63,
   "metadata": {
    "colab": {
     "base_uri": "https://localhost:8080/"
    },
    "id": "mZazxv91XYL-",
    "outputId": "efe97720-eac3-472f-b6d3-bb5eeb559546"
   },
   "outputs": [
    {
     "name": "stdout",
     "output_type": "stream",
     "text": [
      "LR [0.75399061 0.77840376 0.742723   0.72462406 0.74366197 0.7258216\n",
      " 0.75680751 0.742723   0.7443609  0.77652582 0.74647887 0.73051643\n",
      " 0.76056338 0.76033835 0.75586854 0.73896714 0.75868545 0.75492958\n",
      " 0.75093985 0.75023474 0.75962441 0.73896714 0.7370892  0.77067669\n",
      " 0.73051643 0.78122066 0.73896714 0.76901408 0.71804511 0.74741784\n",
      " 0.75117371 0.74741784 0.75774648 0.75657895 0.73239437 0.74366197\n",
      " 0.75023474 0.74460094 0.74342105 0.75492958 0.74741784 0.74929577\n",
      " 0.76431925 0.72744361 0.74741784 0.77089202 0.75117371 0.73051643\n",
      " 0.74906015 0.74647887] 0.7490975678633203\n",
      "RF [0.88732394 0.91361502 0.89201878 0.875      0.90140845 0.88920188\n",
      " 0.89295775 0.88732394 0.8843985  0.90610329 0.88732394 0.89014085\n",
      " 0.88826291 0.89567669 0.90704225 0.89859155 0.89201878 0.89765258\n",
      " 0.88909774 0.89389671 0.89671362 0.89201878 0.87699531 0.89379699\n",
      " 0.89859155 0.88262911 0.89389671 0.89953052 0.89661654 0.90328638\n",
      " 0.89483568 0.88732394 0.90046948 0.90413534 0.89014085 0.89295775\n",
      " 0.88075117 0.90046948 0.90131579 0.90140845 0.89953052 0.89671362\n",
      " 0.90140845 0.90037594 0.88920188 0.90422535 0.88638498 0.90234742\n",
      " 0.89097744 0.88920188] 0.8943461294080273\n",
      "DT [0.84037559 0.87323944 0.8600939  0.85244361 0.85821596 0.83098592\n",
      " 0.8600939  0.85352113 0.8656015  0.85633803 0.85446009 0.85352113\n",
      " 0.8657277  0.85432331 0.85821596 0.86478873 0.86384977 0.86103286\n",
      " 0.85056391 0.84882629 0.84788732 0.87699531 0.85164319 0.8674812\n",
      " 0.85446009 0.84225352 0.84882629 0.85446009 0.8768797  0.84788732\n",
      " 0.8600939  0.84225352 0.8685446  0.8637218  0.85446009 0.86103286\n",
      " 0.83004695 0.8685446  0.8731203  0.85915493 0.84319249 0.85821596\n",
      " 0.86478873 0.85808271 0.84788732 0.86197183 0.84037559 0.8741784\n",
      " 0.85526316 0.86197183] 0.8568378869709485\n"
     ]
    }
   ],
   "source": [
    "\n",
    "# Create a best estimate by running the unbalanced dataset through each initial model\n",
    "# Then scoring the model using 3-fold cross validation\n",
    "models = {'LR': LogisticRegression(C=1),\n",
    "          'RF': RandomForestClassifier(n_estimators=100),\n",
    "         \"DT\": DecisionTreeClassifier()}\n",
    "\n",
    "balset = {}\n",
    "for i in models.keys():\n",
    "    scores = cross_val_score(models[i], X_balance, y_balance, scoring='recall',cv=cv, n_jobs=-1)\n",
    "    balset[i] = scores\n",
    "    print(i, scores, np.mean(scores))"
   ]
  },
  {
   "cell_type": "code",
   "execution_count": 64,
   "metadata": {
    "colab": {
     "base_uri": "https://localhost:8080/"
    },
    "id": "UoZBG6DSXYL-",
    "outputId": "ca4dbc96-f40a-4d53-9839-c9b74d1e4616"
   },
   "outputs": [
    {
     "name": "stdout",
     "output_type": "stream",
     "text": [
      "0.6592935999467956\n"
     ]
    }
   ],
   "source": [
    "modelrf= RandomForestClassifier(n_estimators=100)\n",
    "modelrf.fit(X_balance, y_balance)\n",
    "predict = modelrf.predict(X_test_base)\n",
    "print(sklearn.metrics.roc_auc_score(y_test, modelrf.predict_proba(X_test_base)[:,1]))\n"
   ]
  },
  {
   "cell_type": "code",
   "execution_count": 65,
   "metadata": {
    "id": "RYj8xn6-XYL_"
   },
   "outputs": [],
   "source": [
    "\n",
    "# Fitting the model to the balanced data\n",
    "model = RandomForestClassifier(max_features=\"sqrt\",max_depth=3,n_estimators=100)\n",
    "model.fit(X_balance, y_balance)\n",
    "predict = model.predict(X_test_base)"
   ]
  },
  {
   "cell_type": "code",
   "execution_count": 66,
   "metadata": {
    "colab": {
     "base_uri": "https://localhost:8080/"
    },
    "id": "L4pQgxzpXYL_",
    "outputId": "b9b185f3-8c7d-4bd9-d158-5251ce7d96e5"
   },
   "outputs": [
    {
     "name": "stdout",
     "output_type": "stream",
     "text": [
      "              precision    recall  f1-score   support\n",
      "\n",
      "           0       0.92      0.48      0.63      2284\n",
      "           1       0.20      0.76      0.32       395\n",
      "\n",
      "    accuracy                           0.52      2679\n",
      "   macro avg       0.56      0.62      0.47      2679\n",
      "weighted avg       0.81      0.52      0.58      2679\n",
      "\n"
     ]
    }
   ],
   "source": [
    "from sklearn.metrics import classification_report\n",
    "print(classification_report(y_test, predict))\n"
   ]
  },
  {
   "cell_type": "code",
   "execution_count": 67,
   "metadata": {
    "colab": {
     "base_uri": "https://localhost:8080/",
     "height": 0
    },
    "id": "ZTQeeTwZXYL_",
    "outputId": "092942de-5630-4fa3-b114-1893bdcd6088"
   },
   "outputs": [
    {
     "data": {
      "text/plain": [
       "(0.0, 2.0, 2.0, 0.0)"
      ]
     },
     "execution_count": 67,
     "metadata": {},
     "output_type": "execute_result"
    },
    {
     "data": {
      "image/png": "[encoded data removed]",
      "text/plain": [
       "<Figure size 576x432 with 2 Axes>"
      ]
     },
     "metadata": {},
     "output_type": "display_data"
    }
   ],
   "source": [
    "# Plotting the confusion matrix for the logistic regression model for the testing data\n",
    "predict = model.predict(X_test_base)\n",
    "fig, axes = plt.subplots(figsize=(8,6))\n",
    "cm = confusion_matrix(y_test, predict).T\n",
    "cm = cm.astype('float')/cm.sum(axis=0)\n",
    "ax = sns.heatmap(cm, annot=True, cmap='Blues');\n",
    "ax.set_xlabel('True Label')\n",
    "ax.set_ylabel('Predicted Label')\n",
    "ax.axis('equal')"
   ]
  },
  {
   "cell_type": "markdown",
   "metadata": {
    "id": "fGWUgpSzXYMA"
   },
   "source": [
    "## Applying Randomized Search to Balanced dataset"
   ]
  },
  {
   "cell_type": "code",
   "execution_count": 89,
   "metadata": {
    "id": "xhyLarkrXYMA"
   },
   "outputs": [],
   "source": [
    "# Hyperparameters for Random Forest - https://towardsdatascience.com/hyperparameter-tuning-the-random-forest-in-python-using-scikit-learn-28d2aa77dd74\n",
    "#https://towardsdatascience.com/how-to-tune-a-decision-tree-f03721801680\n",
    "# Number of trees in random forest\n",
    "n_estimators = [2000]\n",
    "# Number of features to consider at every split\n",
    "max_features = ['auto', 'sqrt']\n",
    "# Maximum number of levels in tree\n",
    "max_depth = [int(x) for x in np.linspace(10, 110, num = 5)]\n",
    "max_depth.append(None)\n",
    "# Minimum number of samples required to split a node\n",
    "min_samples_split = [2, 5, 10]\n",
    "# Minimum number of samples required at each leaf node\n",
    "min_samples_leaf = [1, 2, 4]\n",
    "# Method of selecting samples for training each tree\n",
    "bootstrap = [True, False]\n",
    "criterion=['gini', 'entropy']\n",
    "class_weight = [\"balanced\"]"
   ]
  },
  {
   "cell_type": "code",
   "execution_count": null,
   "metadata": {
    "id": "C4WqVDB0XYMA",
    "outputId": "dad9943d-a878-488e-ea24-4369d529b723"
   },
   "outputs": [
    {
     "data": {
      "text/plain": [
       "DecisionTreeClassifier()"
      ]
     },
     "execution_count": 122,
     "metadata": {
      "tags": []
     },
     "output_type": "execute_result"
    }
   ],
   "source": [
    "DecisionTreeClassifier()"
   ]
  },
  {
   "cell_type": "code",
   "execution_count": 90,
   "metadata": {
    "id": "hrqJbiziXYMA"
   },
   "outputs": [],
   "source": [
    "# Set grid search params\n",
    "\n",
    "grid_params_lr ={'clf__penalty': ['l1', 'l2'], \n",
    "                 'clf__C': list(np.logspace(-5,5,10)), \n",
    "                 #'clf__solver': [\"lbfgs\",'newton-cg'],\n",
    "                 \"clf__max_iter\": [500,1000,3000],\n",
    "                 \"clf__class_weight\": class_weight\n",
    "                } \n",
    "\n",
    "grid_params_rf ={ \n",
    "    'clf__n_estimators': n_estimators,\n",
    "    'clf__max_features': max_features,\n",
    "    #'clf__max_depth' : max_depth,\n",
    "    'clf__criterion' :criterion,\n",
    "    'clf__class_weight': class_weight,\n",
    "    'clf__min_samples_split': min_samples_split,\n",
    "    #'clf__min_samples_leaf': min_samples_leaf,\n",
    "    #'clf__bootstrap': bootstrap\n",
    "}\n",
    "\n",
    "\n",
    "grid_params_dt = {'clf__criterion': ['gini', 'entropy'],\n",
    "                  #'clf__splitter': [\"best\", \"random\"],\n",
    "                   'clf__max_depth': max_depth,\n",
    "                  'clf__class_weight': class_weight,\n",
    "                  'clf__min_samples_split': min_samples_split}\n",
    "                  #'clf__min_samples_leaf': min_samples_leaf}\n"
   ]
  },
  {
   "cell_type": "code",
   "execution_count": 92,
   "metadata": {
    "id": "7_DZZiEaXYMB"
   },
   "outputs": [],
   "source": [
    "kf = RepeatedStratifiedKFold(n_splits=10, n_repeats=3, random_state=1)\n"
   ]
  },
  {
   "cell_type": "code",
   "execution_count": 98,
   "metadata": {
    "colab": {
     "base_uri": "https://localhost:8080/"
    },
    "id": "npSuThhXXYMB",
    "outputId": "2c547d1b-c181-41ec-8b5b-e1b9575621b1"
   },
   "outputs": [
    {
     "data": {
      "text/plain": [
       "RandomizedSearchCV(cv=RepeatedStratifiedKFold(n_repeats=3, n_splits=10, random_state=1),\n",
       "                   error_score=nan,\n",
       "                   estimator=Pipeline(memory=None,\n",
       "                                      steps=[('clf',\n",
       "                                              RandomForestClassifier(bootstrap=True,\n",
       "                                                                     ccp_alpha=0.0,\n",
       "                                                                     class_weight=None,\n",
       "                                                                     criterion='gini',\n",
       "                                                                     max_depth=3,\n",
       "                                                                     max_features='sqrt',\n",
       "                                                                     max_leaf_nodes=None,\n",
       "                                                                     max_samples=None,\n",
       "                                                                     min_impurity_decrease=0.0,\n",
       "                                                                     min_impurity_split=No...\n",
       "                                                                     warm_start=False))],\n",
       "                                      verbose=False),\n",
       "                   iid='deprecated', n_iter=100, n_jobs=-1,\n",
       "                   param_distributions={'clf__class_weight': ['balanced'],\n",
       "                                        'clf__criterion': ['gini', 'entropy'],\n",
       "                                        'clf__max_features': ['auto', 'sqrt'],\n",
       "                                        'clf__min_samples_split': [2, 5, 10],\n",
       "                                        'clf__n_estimators': [2000]},\n",
       "                   pre_dispatch='2*n_jobs', random_state=None, refit=True,\n",
       "                   return_train_score=True, scoring='roc_auc', verbose=0)"
      ]
     },
     "execution_count": 98,
     "metadata": {
      "tags": []
     },
     "output_type": "execute_result"
    }
   ],
   "source": [
    "# Random Forest\n",
    "\n",
    "rf = RandomForestClassifier(max_features=\"sqrt\",max_depth=3,n_estimators=100)\n",
    "pipeline = Pipeline([('clf', rf)])\n",
    "\n",
    "RF = RandomizedSearchCV(pipeline, grid_params_rf, scoring = 'roc_auc', cv = kf,return_train_score=True,n_iter=100,n_jobs=-1)\n",
    "   \n",
    "RF.fit(X_train_base, y_train)"
   ]
  },
  {
   "cell_type": "code",
   "execution_count": 117,
   "metadata": {
    "colab": {
     "base_uri": "https://localhost:8080/"
    },
    "id": "E2CYTCaJ3jhL",
    "outputId": "d96ef4c0-169d-41a9-cb7e-49d738ba09aa"
   },
   "outputs": [
    {
     "data": {
      "text/plain": [
       "0.7351256457247871"
      ]
     },
     "execution_count": 117,
     "metadata": {
      "tags": []
     },
     "output_type": "execute_result"
    }
   ],
   "source": [
    "np.mean(pd.DataFrame(RF.cv_results_)[\"mean_train_score\"])"
   ]
  },
  {
   "cell_type": "code",
   "execution_count": 111,
   "metadata": {
    "colab": {
     "base_uri": "https://localhost:8080/"
    },
    "id": "V1l7Q75x5kkX",
    "outputId": "115256c8-16f1-41c6-bcb6-94099c705eab"
   },
   "outputs": [
    {
     "name": "stdout",
     "output_type": "stream",
     "text": [
      "0.691307721297302\n"
     ]
    }
   ],
   "source": [
    " \n",
    " \n",
    "modelrf= RandomForestClassifier(bootstrap=True, ccp_alpha=0.0,\n",
    "                                        class_weight='balanced',\n",
    "                                        criterion='entropy', max_depth=3,\n",
    "                                        max_features='auto',\n",
    "                                        max_leaf_nodes=None, max_samples=None,\n",
    "                                        min_impurity_decrease=0.0,\n",
    "                                        min_impurity_split=None,\n",
    "                                        min_samples_leaf=1, min_samples_split=5,\n",
    "                                        min_weight_fraction_leaf=0.0,\n",
    "                                        n_estimators=3000, n_jobs=None,\n",
    "                                        oob_score=False, random_state=None,\n",
    "                                        verbose=0, warm_start=False)\n",
    "modelrf.fit(X_train_base, y_train)\n",
    "predict = modelrf.predict(X_test_base)\n",
    "print(sklearn.metrics.roc_auc_score(y_test, modelrf.predict_proba(X_test_base)[:,1]))"
   ]
  },
  {
   "cell_type": "code",
   "execution_count": 93,
   "metadata": {
    "colab": {
     "base_uri": "https://localhost:8080/"
    },
    "id": "ukMg9EtEXYMB",
    "outputId": "4fe359d5-0c92-44d9-8157-46ae34f804d0"
   },
   "outputs": [
    {
     "data": {
      "text/plain": [
       "RandomizedSearchCV(cv=RepeatedStratifiedKFold(n_repeats=3, n_splits=10, random_state=1),\n",
       "                   error_score=nan,\n",
       "                   estimator=Pipeline(memory=None,\n",
       "                                      steps=[('clf',\n",
       "                                              LogisticRegression(C=1.0,\n",
       "                                                                 class_weight=None,\n",
       "                                                                 dual=False,\n",
       "                                                                 fit_intercept=True,\n",
       "                                                                 intercept_scaling=1,\n",
       "                                                                 l1_ratio=None,\n",
       "                                                                 max_iter=100,\n",
       "                                                                 multi_class='auto',\n",
       "                                                                 n_jobs=None,\n",
       "                                                                 penalty='l2',\n",
       "                                                                 random_state=None,\n",
       "                                                                 solver='lbfgs',\n",
       "                                                                 tol=0....\n",
       "                   param_distributions={'clf__C': [1e-05, 0.0001291549665014884,\n",
       "                                                   0.0016681005372000592,\n",
       "                                                   0.021544346900318846,\n",
       "                                                   0.2782559402207126,\n",
       "                                                   3.593813663804626,\n",
       "                                                   46.41588833612782,\n",
       "                                                   599.4842503189421,\n",
       "                                                   7742.636826811277,\n",
       "                                                   100000.0],\n",
       "                                        'clf__class_weight': ['balanced'],\n",
       "                                        'clf__max_iter': [500, 1000, 3000],\n",
       "                                        'clf__penalty': ['l1', 'l2']},\n",
       "                   pre_dispatch='2*n_jobs', random_state=None, refit=True,\n",
       "                   return_train_score=True, scoring='roc_auc', verbose=0)"
      ]
     },
     "execution_count": 93,
     "metadata": {
      "tags": []
     },
     "output_type": "execute_result"
    }
   ],
   "source": [
    "# Logistic Regression\n",
    "\n",
    "lr = LogisticRegression()\n",
    "pipeline2 = Pipeline([('clf', lr)])\n",
    "\n",
    "LR = RandomizedSearchCV(pipeline2, grid_params_lr, scoring = 'roc_auc', cv = kf,return_train_score=True,n_iter=100,n_jobs=-1)\n",
    "   \n",
    "LR.fit(X_train_base, y_train)"
   ]
  },
  {
   "cell_type": "code",
   "execution_count": 94,
   "metadata": {
    "colab": {
     "base_uri": "https://localhost:8080/"
    },
    "id": "TaNssWW25G5T",
    "outputId": "43024acd-6af3-4bb5-a668-39f6c7d29562"
   },
   "outputs": [
    {
     "data": {
      "text/plain": [
       "0.7234091910076782"
      ]
     },
     "execution_count": 94,
     "metadata": {
      "tags": []
     },
     "output_type": "execute_result"
    }
   ],
   "source": [
    "LR.best_score_"
   ]
  },
  {
   "cell_type": "code",
   "execution_count": 95,
   "metadata": {
    "colab": {
     "base_uri": "https://localhost:8080/"
    },
    "id": "riJUN3ejdmmE",
    "outputId": "3d099295-a1fd-4698-872a-1c6cb80ba17c"
   },
   "outputs": [
    {
     "data": {
      "text/plain": [
       "Pipeline(memory=None,\n",
       "         steps=[('clf',\n",
       "                 LogisticRegression(C=0.021544346900318846,\n",
       "                                    class_weight='balanced', dual=False,\n",
       "                                    fit_intercept=True, intercept_scaling=1,\n",
       "                                    l1_ratio=None, max_iter=500,\n",
       "                                    multi_class='auto', n_jobs=None,\n",
       "                                    penalty='l2', random_state=None,\n",
       "                                    solver='lbfgs', tol=0.0001, verbose=0,\n",
       "                                    warm_start=False))],\n",
       "         verbose=False)"
      ]
     },
     "execution_count": 95,
     "metadata": {
      "tags": []
     },
     "output_type": "execute_result"
    }
   ],
   "source": [
    "LR.best_estimator_\n"
   ]
  },
  {
   "cell_type": "code",
   "execution_count": 118,
   "metadata": {
    "colab": {
     "base_uri": "https://localhost:8080/"
    },
    "id": "aE9aAJY2pyfa",
    "outputId": "7f05cb76-2f92-480c-f482-dde230ade1ff"
   },
   "outputs": [
    {
     "data": {
      "text/plain": [
       "0.7147376059121788"
      ]
     },
     "execution_count": 118,
     "metadata": {
      "tags": []
     },
     "output_type": "execute_result"
    }
   ],
   "source": [
    "np.mean(pd.DataFrame(LR.cv_results_)[\"mean_train_score\"])"
   ]
  },
  {
   "cell_type": "code",
   "execution_count": 96,
   "metadata": {
    "colab": {
     "base_uri": "https://localhost:8080/"
    },
    "id": "jRSU-n6qXYMB",
    "outputId": "b8fd311c-5a3e-4b3f-e2b5-f9f717b39f8b"
   },
   "outputs": [
    {
     "data": {
      "text/plain": [
       "RandomizedSearchCV(cv=RepeatedStratifiedKFold(n_repeats=3, n_splits=10, random_state=1),\n",
       "                   error_score=nan,\n",
       "                   estimator=Pipeline(memory=None,\n",
       "                                      steps=[('clf',\n",
       "                                              DecisionTreeClassifier(ccp_alpha=0.0,\n",
       "                                                                     class_weight=None,\n",
       "                                                                     criterion='gini',\n",
       "                                                                     max_depth=None,\n",
       "                                                                     max_features=None,\n",
       "                                                                     max_leaf_nodes=None,\n",
       "                                                                     min_impurity_decrease=0.0,\n",
       "                                                                     min_impurity_split=None,\n",
       "                                                                     min_samples_leaf=1,\n",
       "                                                                     min_sampl...\n",
       "                                                                     random_state=None,\n",
       "                                                                     splitter='best'))],\n",
       "                                      verbose=False),\n",
       "                   iid='deprecated', n_iter=100, n_jobs=-1,\n",
       "                   param_distributions={'clf__class_weight': ['balanced'],\n",
       "                                        'clf__criterion': ['gini', 'entropy'],\n",
       "                                        'clf__max_depth': [10, 35, 60, 85, 110,\n",
       "                                                           None],\n",
       "                                        'clf__min_samples_split': [2, 5, 10]},\n",
       "                   pre_dispatch='2*n_jobs', random_state=None, refit=True,\n",
       "                   return_train_score=True, scoring='roc_auc', verbose=0)"
      ]
     },
     "execution_count": 96,
     "metadata": {
      "tags": []
     },
     "output_type": "execute_result"
    }
   ],
   "source": [
    "# Decision Tree\n",
    "dt = DecisionTreeClassifier()\n",
    "pipeline3 = Pipeline([('clf', dt)])\n",
    "\n",
    "DT = RandomizedSearchCV(pipeline3, grid_params_dt, scoring = 'roc_auc', cv = kf,return_train_score=True,n_iter=100,n_jobs=-1)\n",
    "   \n",
    "DT.fit(X_train_base, y_train)"
   ]
  },
  {
   "cell_type": "code",
   "execution_count": 97,
   "metadata": {
    "colab": {
     "base_uri": "https://localhost:8080/"
    },
    "id": "WdctQm6uhM3a",
    "outputId": "58c8da84-6ace-4379-982b-3e99f53c7939"
   },
   "outputs": [
    {
     "data": {
      "text/plain": [
       "Pipeline(memory=None,\n",
       "         steps=[('clf',\n",
       "                 DecisionTreeClassifier(ccp_alpha=0.0, class_weight='balanced',\n",
       "                                        criterion='entropy', max_depth=10,\n",
       "                                        max_features=None, max_leaf_nodes=None,\n",
       "                                        min_impurity_decrease=0.0,\n",
       "                                        min_impurity_split=None,\n",
       "                                        min_samples_leaf=1,\n",
       "                                        min_samples_split=10,\n",
       "                                        min_weight_fraction_leaf=0.0,\n",
       "                                        presort='deprecated', random_state=None,\n",
       "                                        splitter='best'))],\n",
       "         verbose=False)"
      ]
     },
     "execution_count": 97,
     "metadata": {
      "tags": []
     },
     "output_type": "execute_result"
    }
   ],
   "source": [
    "DT.best_estimator_"
   ]
  },
  {
   "cell_type": "code",
   "execution_count": null,
   "metadata": {
    "id": "mhnvs076XYMB"
   },
   "outputs": [],
   "source": [
    "print('Best LR test AUC: %.3f' % LR.best_score_)\n",
    "print('Best RF test AUC: %.3f' % RF.best_score_)\n",
    "print('Best DT test AUC: %.3f' % DT.best_score_)"
   ]
  },
  {
   "cell_type": "code",
   "execution_count": null,
   "metadata": {
    "colab": {
     "base_uri": "https://localhost:8080/"
    },
    "id": "w5ZSm5uoXYMC",
    "outputId": "1b6fc4aa-a12a-417b-da00-5e923e259e06"
   },
   "outputs": [
    {
     "name": "stdout",
     "output_type": "stream",
     "text": [
      "Best DT test AUC: 0.608\n"
     ]
    }
   ],
   "source": [
    "print('Best DT test AUC: %.3f' % DT.best_score_)"
   ]
  },
  {
   "cell_type": "code",
   "execution_count": 119,
   "metadata": {
    "colab": {
     "base_uri": "https://localhost:8080/"
    },
    "id": "B7Gjq8vWp2bd",
    "outputId": "8a989244-9065-4857-e58e-31e6726a526f"
   },
   "outputs": [
    {
     "data": {
      "text/plain": [
       "0.9813590636759331"
      ]
     },
     "execution_count": 119,
     "metadata": {
      "tags": []
     },
     "output_type": "execute_result"
    }
   ],
   "source": [
    "np.mean(pd.DataFrame(DT.cv_results_)[\"mean_train_score\"])"
   ]
  },
  {
   "cell_type": "code",
   "execution_count": 121,
   "metadata": {
    "colab": {
     "base_uri": "https://localhost:8080/"
    },
    "id": "ZZTA6kzqqBEv",
    "outputId": "dfac0827-2e48-459c-ebc0-45a816d4a512"
   },
   "outputs": [
    {
     "name": "stdout",
     "output_type": "stream",
     "text": [
      "LR [0.73012054 0.72267986 0.68125872 0.74545362 0.73785775 0.70724527\n",
      " 0.71795457 0.72988199 0.72575054 0.73284016 0.71702576 0.71775155\n",
      " 0.69569344 0.75288923 0.72965175 0.6815531  0.76654739 0.73211014\n",
      " 0.70859028 0.7222138  0.71168126 0.70767669 0.72303007 0.7378759\n",
      " 0.72877254 0.70631138 0.70689506 0.71679736 0.73681005 0.73716044\n",
      " 0.71678721 0.71270651 0.74041873 0.72053293 0.7213649  0.74140845\n",
      " 0.71546758 0.69709428 0.71559447 0.74688233 0.71863977 0.72955209\n",
      " 0.69672884 0.7217815  0.74714508 0.70238295 0.74585966 0.70563127\n",
      " 0.70354524 0.72963154] 0.7219447111445496\n",
      "RF [0.70783911 0.70401218 0.66658546 0.72546631 0.70804026 0.69287654\n",
      " 0.69531785 0.71863469 0.71390433 0.69870745 0.7074889  0.68973481\n",
      " 0.68821216 0.72085268 0.70269424 0.66964091 0.73489151 0.71326989\n",
      " 0.70844817 0.6910017  0.70093135 0.67795965 0.69465804 0.72073087\n",
      " 0.72282521 0.70015988 0.68728842 0.7016876  0.70466692 0.7182725\n",
      " 0.68735947 0.68734932 0.72587235 0.7019566  0.68284118 0.73263799\n",
      " 0.693983   0.67375206 0.70200228 0.71602898 0.7001142  0.70101256\n",
      " 0.67761452 0.69084126 0.74597785 0.70012943 0.70868671 0.70324578\n",
      " 0.67676183 0.70964205] 0.7020921800168854\n",
      "DT [0.63285877 0.63045045 0.57493465 0.61849004 0.59150144 0.59675168\n",
      " 0.58455272 0.63186905 0.63401599 0.60988661 0.58700419 0.60139322\n",
      " 0.60478112 0.62272047 0.61111701 0.56556275 0.62866134 0.63453623\n",
      " 0.61305672 0.6182442  0.60709555 0.6042152  0.58700673 0.60725289\n",
      " 0.59276973 0.58205304 0.6174318  0.59782769 0.61142495 0.61072793\n",
      " 0.61871082 0.60154549 0.63284355 0.60706763 0.58874505 0.58634437\n",
      " 0.58085522 0.60317472 0.60539779 0.63901437 0.61768557 0.59771349\n",
      " 0.53954828 0.57883517 0.61270111 0.59714503 0.61510722 0.60297678\n",
      " 0.58054815 0.59088497] 0.6041407785075986\n"
     ]
    }
   ],
   "source": [
    "\n",
    "# Create a best estimate by running the unbalanced dataset through each initial model\n",
    "# Then scoring the model using 3-fold cross validation\n",
    "models = {'LR':  LogisticRegression(C=0.021544346900318846,\n",
    "                                    class_weight='balanced', dual=False,\n",
    "                                    fit_intercept=True, intercept_scaling=1,\n",
    "                                    l1_ratio=None, max_iter=500,\n",
    "                                    multi_class='auto', n_jobs=None,\n",
    "                                    penalty='l2', random_state=None,\n",
    "                                    solver='lbfgs', tol=0.0001, verbose=0,\n",
    "                                    warm_start=False),\n",
    "          'RF':RandomForestClassifier(bootstrap=True, ccp_alpha=0.0,\n",
    "                                        class_weight='balanced',\n",
    "                                        criterion='entropy', max_depth=3,\n",
    "                                        max_features='auto',\n",
    "                                        max_leaf_nodes=None, max_samples=None,\n",
    "                                        min_impurity_decrease=0.0,\n",
    "                                        min_impurity_split=None,\n",
    "                                        min_samples_leaf=1, min_samples_split=5,\n",
    "                                        min_weight_fraction_leaf=0.0,\n",
    "                                        n_estimators=3000, n_jobs=None,\n",
    "                                        oob_score=False, random_state=None,\n",
    "                                        verbose=0, warm_start=False),\n",
    "         \"DT\": DecisionTreeClassifier(ccp_alpha=0.0, class_weight='balanced',\n",
    "                                        criterion='entropy', max_depth=10,\n",
    "                                        max_features=None, max_leaf_nodes=None,\n",
    "                                        min_impurity_decrease=0.0,\n",
    "                                        min_impurity_split=None,\n",
    "                                        min_samples_leaf=1,\n",
    "                                        min_samples_split=10,\n",
    "                                        min_weight_fraction_leaf=0.0,\n",
    "                                        presort='deprecated', random_state=None,\n",
    "                                        splitter='best')}\n",
    "\n",
    "unbalset = {}\n",
    "for i in models.keys():\n",
    "    scores = cross_val_score(models[i], X_unbalance - np.min(X_unbalance) + 1, y_unbalance, scoring='roc_auc',cv=cv)\n",
    "    unbalset[i] = scores\n",
    "    print(i, scores, np.mean(scores))"
   ]
  },
  {
   "cell_type": "code",
   "execution_count": 122,
   "metadata": {
    "id": "hArzwLokqTmf"
   },
   "outputs": [],
   "source": [
    "# Computing the ROC curves for the models and finding the true positive (TP) and false positives (FP)\n",
    "tp_unbalset, fp_unbalset = createROC(models, X_unbalance - np.min(X_unbalance) + 1, y_unbalance, X_test_base - np.min(X_test_base) + 1, y_test)"
   ]
  },
  {
   "cell_type": "code",
   "execution_count": 132,
   "metadata": {
    "colab": {
     "base_uri": "https://localhost:8080/"
    },
    "id": "GD3g1kXGrf1Z",
    "outputId": "4baff0c7-ff6a-417b-c4ab-09c969ec6281"
   },
   "outputs": [
    {
     "name": "stdout",
     "output_type": "stream",
     "text": [
      "0.6325339732647586\n"
     ]
    }
   ],
   "source": [
    "\n",
    "\n",
    "# Fitting LR to the test set\n",
    "model1 = LogisticRegression(C=0.021544346900318846,\n",
    "                                    class_weight='balanced', dual=False,\n",
    "                                    fit_intercept=True, intercept_scaling=1,\n",
    "                                    l1_ratio=None, max_iter=500,\n",
    "                                    multi_class='auto', n_jobs=None,\n",
    "                                    penalty='l2', random_state=None,\n",
    "                                    solver='lbfgs', tol=0.0001, verbose=0,\n",
    "                                    warm_start=False)\n",
    "model1.fit(X_unbalance, y_unbalance)\n",
    "predict1 = model1.predict(X_test_base)\n",
    "print(sklearn.metrics.roc_auc_score(y_test,predict1))"
   ]
  },
  {
   "cell_type": "code",
   "execution_count": 133,
   "metadata": {
    "colab": {
     "base_uri": "https://localhost:8080/"
    },
    "id": "-Kq3i0VeySQi",
    "outputId": "75ddf172-f95a-4b52-cfc3-a188e5d59690"
   },
   "outputs": [
    {
     "name": "stdout",
     "output_type": "stream",
     "text": [
      "              precision    recall  f1-score   support\n",
      "\n",
      "           0       0.90      0.78      0.84      2284\n",
      "           1       0.28      0.48      0.35       395\n",
      "\n",
      "    accuracy                           0.74      2679\n",
      "   macro avg       0.59      0.63      0.59      2679\n",
      "weighted avg       0.81      0.74      0.76      2679\n",
      "\n"
     ]
    }
   ],
   "source": [
    "from sklearn.metrics import classification_report\n",
    "print(classification_report(y_test, predict1))"
   ]
  },
  {
   "cell_type": "code",
   "execution_count": 134,
   "metadata": {
    "colab": {
     "base_uri": "https://localhost:8080/"
    },
    "id": "O7QJ0VX3w0zX",
    "outputId": "765741f8-9caa-4022-8781-563b45cdbe3a"
   },
   "outputs": [
    {
     "name": "stdout",
     "output_type": "stream",
     "text": [
      "0.6407540623822298\n"
     ]
    }
   ],
   "source": [
    "model2 = RandomForestClassifier(bootstrap=True, ccp_alpha=0.0,\n",
    "                                        class_weight='balanced',\n",
    "                                        criterion='entropy', max_depth=3,\n",
    "                                        max_features='auto',\n",
    "                                        max_leaf_nodes=None, max_samples=None,\n",
    "                                        min_impurity_decrease=0.0,\n",
    "                                        min_impurity_split=None,\n",
    "                                        min_samples_leaf=1, min_samples_split=5,\n",
    "                                        min_weight_fraction_leaf=0.0,\n",
    "                                        n_estimators=3000, n_jobs=None,\n",
    "                                        oob_score=False, random_state=None,\n",
    "                                        verbose=0, warm_start=False)\n",
    "model2.fit(X_unbalance, y_unbalance)\n",
    "predict2 = model2.predict(X_test_base)\n",
    "print(sklearn.metrics.roc_auc_score(y_test,predict2))"
   ]
  },
  {
   "cell_type": "code",
   "execution_count": 135,
   "metadata": {
    "colab": {
     "base_uri": "https://localhost:8080/"
    },
    "id": "37ocQwDAyh9p",
    "outputId": "7f910085-40bc-4f60-db69-a53ded618329"
   },
   "outputs": [
    {
     "name": "stdout",
     "output_type": "stream",
     "text": [
      "              precision    recall  f1-score   support\n",
      "\n",
      "           0       0.91      0.68      0.78      2284\n",
      "           1       0.24      0.61      0.35       395\n",
      "\n",
      "    accuracy                           0.67      2679\n",
      "   macro avg       0.58      0.64      0.56      2679\n",
      "weighted avg       0.81      0.67      0.71      2679\n",
      "\n"
     ]
    }
   ],
   "source": [
    "print(classification_report(y_test, predict2))"
   ]
  },
  {
   "cell_type": "code",
   "execution_count": 136,
   "metadata": {
    "colab": {
     "base_uri": "https://localhost:8080/"
    },
    "id": "VVCC3Q0OxF9Q",
    "outputId": "3dcb3467-a803-4572-cf2f-cb329a493bbd"
   },
   "outputs": [
    {
     "name": "stdout",
     "output_type": "stream",
     "text": [
      "0.5714779755702852\n"
     ]
    }
   ],
   "source": [
    "model3 = DecisionTreeClassifier(ccp_alpha=0.0, class_weight='balanced',\n",
    "                                        criterion='entropy', max_depth=10,\n",
    "                                        max_features=None, max_leaf_nodes=None,\n",
    "                                        min_impurity_decrease=0.0,\n",
    "                                        min_impurity_split=None,\n",
    "                                        min_samples_leaf=1,\n",
    "                                        min_samples_split=10,\n",
    "                                        min_weight_fraction_leaf=0.0,\n",
    "                                        presort='deprecated', random_state=None,\n",
    "                                        splitter='best')\n",
    "model3.fit(X_unbalance, y_unbalance)\n",
    "predict3 = model3.predict(X_test_base)\n",
    "print(sklearn.metrics.roc_auc_score(y_test,predict3))"
   ]
  },
  {
   "cell_type": "code",
   "execution_count": 137,
   "metadata": {
    "colab": {
     "base_uri": "https://localhost:8080/"
    },
    "id": "AhXl6ZqKynZX",
    "outputId": "a3681dbb-2cd3-40f7-bfd4-3d9e173faffc"
   },
   "outputs": [
    {
     "name": "stdout",
     "output_type": "stream",
     "text": [
      "              precision    recall  f1-score   support\n",
      "\n",
      "           0       0.88      0.73      0.80      2284\n",
      "           1       0.21      0.41      0.28       395\n",
      "\n",
      "    accuracy                           0.68      2679\n",
      "   macro avg       0.54      0.57      0.54      2679\n",
      "weighted avg       0.78      0.68      0.72      2679\n",
      "\n"
     ]
    }
   ],
   "source": [
    "print(classification_report(y_test, predict3))"
   ]
  },
  {
   "cell_type": "code",
   "execution_count": null,
   "metadata": {
    "id": "3-OswWywxQx6"
   },
   "outputs": [],
   "source": []
  },
  {
   "cell_type": "code",
   "execution_count": 129,
   "metadata": {
    "colab": {
     "base_uri": "https://localhost:8080/",
     "height": 386
    },
    "id": "YZOlXRX-rpr0",
    "outputId": "fc6f4c43-62d8-4a61-e77e-6dae7cdc0a3d"
   },
   "outputs": [
    {
     "data": {
      "text/plain": [
       "(0.0, 1.0)"
      ]
     },
     "execution_count": 129,
     "metadata": {
      "tags": []
     },
     "output_type": "execute_result"
    },
    {
     "data": {
      "image/png": "[encoded data removed]",
      "text/plain": [
       "<Figure size 1296x360 with 2 Axes>"
      ]
     },
     "metadata": {
      "tags": []
     },
     "output_type": "display_data"
    }
   ],
   "source": [
    "# Plot the box plot for cross validation scores\n",
    "# Plot the ROC curve for all tested models\n",
    "# Plot the confusion matrix for the logistic regression\n",
    "fig, axes = plt.subplots(nrows=1, ncols=2, figsize=(18,5))\n",
    "\n",
    "ax = pd.DataFrame(unbalset).boxplot(widths=(0.9,0.9,0.9), grid=False, vert=False, ax=axes[0])\n",
    "ax.set_ylabel('Classifier')\n",
    "ax.set_xlabel('Cross-Validation Score')\n",
    "\n",
    "for i in range(0, len(tp_unbalset)):\n",
    "    axes[1].plot(fp_unbalset[i], tp_unbalset[i], lw=1)\n",
    "\n",
    "axes[1].plot([0, 1], [0, 1], '--k', lw=1)\n",
    "axes[1].legend(models.keys())\n",
    "axes[1].set_ylabel('True Positive Rate')\n",
    "axes[1].set_xlabel('False Positive Rate')\n",
    "axes[1].set_xlim(0,1)\n",
    "axes[1].set_ylim(0,1)\n"
   ]
  },
  {
   "cell_type": "code",
   "execution_count": 138,
   "metadata": {
    "id": "EHxyzOGbzR8F"
   },
   "outputs": [],
   "source": [
    "# TP and FP from the testing set\n",
    "fp, tp, threshold = sklearn.metrics.roc_curve(y_test, model2.predict_proba(X_test_base)[:,1])"
   ]
  },
  {
   "cell_type": "code",
   "execution_count": 139,
   "metadata": {
    "colab": {
     "base_uri": "https://localhost:8080/",
     "height": 458
    },
    "id": "cd_srfKozc-M",
    "outputId": "481048cd-22b7-447d-d5de-f96807bcc754"
   },
   "outputs": [
    {
     "data": {
      "text/plain": [
       "Text(0, 0.5, 'True Positive & False Positive Rates')"
      ]
     },
     "execution_count": 139,
     "metadata": {
      "tags": []
     },
     "output_type": "execute_result"
    },
    {
     "data": {
      "image/png": "[encoded data removed]",
      "text/plain": [
       "<Figure size 1152x432 with 2 Axes>"
      ]
     },
     "metadata": {
      "tags": []
     },
     "output_type": "display_data"
    }
   ],
   "source": [
    "# Plotting the threshold for TP and FP rates \n",
    "fig, ax = plt.subplots(nrows=1, ncols=2, figsize=(16,6))\n",
    "\n",
    "ax[0].plot(threshold, tp + (1 - fp))\n",
    "ax[0].set_xlabel('Threshold')\n",
    "ax[0].set_ylabel('Sensitivity + Specificity')\n",
    "\n",
    "ax[1].plot(threshold, tp, label=\"tp\")\n",
    "ax[1].plot(threshold, 1 - fp, label=\"1 - fp\")\n",
    "ax[1].legend()\n",
    "ax[1].set_xlabel('Threshold')\n",
    "ax[1].set_ylabel('True Positive & False Positive Rates')"
   ]
  },
  {
   "cell_type": "code",
   "execution_count": 140,
   "metadata": {
    "colab": {
     "base_uri": "https://localhost:8080/"
    },
    "id": "xGwr340lzlQi",
    "outputId": "546a9b68-f14f-4243-f562-3c3179384278"
   },
   "outputs": [
    {
     "name": "stdout",
     "output_type": "stream",
     "text": [
      "optimal threshold: 0.471094749241736\n"
     ]
    }
   ],
   "source": [
    "# Identify the optimal threshold for the model\n",
    "function = tp + (1 - fp)\n",
    "index = np.argmax(function)\n",
    "\n",
    "optimal_threshold = threshold[np.argmax(function)]\n",
    "print('optimal threshold:', optimal_threshold)"
   ]
  },
  {
   "cell_type": "code",
   "execution_count": 143,
   "metadata": {
    "colab": {
     "base_uri": "https://localhost:8080/",
     "height": 458
    },
    "id": "y6T6JmBJzp9R",
    "outputId": "81dcfbba-adce-4d9a-bf6d-ef943d7337f7"
   },
   "outputs": [
    {
     "data": {
      "text/plain": [
       "(0.0, 2.0, 2.0, 0.0)"
      ]
     },
     "execution_count": 143,
     "metadata": {
      "tags": []
     },
     "output_type": "execute_result"
    },
    {
     "data": {
      "image/png": "[encoded data removed]",
      "text/plain": [
       "<Figure size 1080x432 with 2 Axes>"
      ]
     },
     "metadata": {
      "tags": []
     },
     "output_type": "display_data"
    }
   ],
   "source": [
    "predict = model2.predict_proba(X_test_base)[:,1]\n",
    "predict = np.where(predict >= optimal_threshold, 1, 0)\n",
    "\n",
    "fig, axes = plt.subplots(figsize=(15,6))\n",
    "\n",
    "cm = confusion_matrix(y_test, predict).T\n",
    "cm = cm.astype('float')/cm.sum(axis=0)\n",
    "\n",
    "ax = sns.heatmap(cm, annot=True, cmap='Blues');\n",
    "ax.set_xlabel('True Value')\n",
    "ax.set_ylabel('Predicted Value')\n",
    "ax.axis('equal')"
   ]
  }
 ],
 "metadata": {
  "colab": {
   "collapsed_sections": [
    "oPrNJrf9XYLb",
    "I_jnLJ63XYLy",
    "CpiArjQfXYL9",
    "QCxIPLCbXYMC",
    "KdBzfvl7XYMF",
    "Varwdru-XYMN",
    "Se5jznYQXYMP",
    "5-TH3GK4XYMS",
    "pr8kz-byXYMX",
    "ZwPjSYxNXYMa"
   ],
   "name": "Assignment_ML_v7_1.ipynb",
   "provenance": []
  },
  "kernelspec": {
   "display_name": "Python 3",
   "language": "python",
   "name": "python3"
  },
  "language_info": {
   "codemirror_mode": {
    "name": "ipython",
    "version": 3
   },
   "file_extension": ".py",
   "mimetype": "text/x-python",
   "name": "python",
   "nbconvert_exporter": "python",
   "pygments_lexer": "ipython3",
   "version": "3.8.5"
  },
  "latex_envs": {
   "LaTeX_envs_menu_present": true,
   "autoclose": false,
   "autocomplete": true,
   "bibliofile": "biblio.bib",
   "cite_by": "apalike",
   "current_citInitial": 1,
   "eqLabelWithNumbers": true,
   "eqNumInitial": 1,
   "hotkeys": {
    "equation": "Ctrl-E",
    "itemize": "Ctrl-I"
   },
   "labels_anchors": false,
   "latex_user_defs": false,
   "report_style_numbering": false,
   "user_envs_cfg": false
  },
  "varInspector": {
   "cols": {
    "lenName": 16,
    "lenType": 16,
    "lenVar": 40
   },
   "kernels_config": {
    "python": {
     "delete_cmd_postfix": "",
     "delete_cmd_prefix": "del ",
     "library": "var_list.py",
     "varRefreshCmd": "print(var_dic_list())"
    },
    "r": {
     "delete_cmd_postfix": ") ",
     "delete_cmd_prefix": "rm(",
     "library": "var_list.r",
     "varRefreshCmd": "cat(var_dic_list()) "
    }
   },
   "types_to_exclude": [
    "module",
    "function",
    "builtin_function_or_method",
    "instance",
    "_Feature"
   ],
   "window_display": false
  }
 },
 "nbformat": 4,
 "nbformat_minor": 1
}
